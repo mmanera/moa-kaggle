{
  "nbformat": 4,
  "nbformat_minor": 0,
  "metadata": {
    "colab": {
      "name": "torch.ipynb",
      "provenance": [],
      "collapsed_sections": []
    },
    "kernelspec": {
      "name": "python3",
      "display_name": "Python 3"
    },
    "accelerator": "GPU"
  },
  "cells": [
    {
      "cell_type": "code",
      "metadata": {
        "id": "H7T1B0OB7Y8K"
      },
      "source": [
        "import pandas as pd\n",
        "import numpy as np\n",
        "\n",
        "import torch\n",
        "import torch.nn as nn\n",
        "import torch.nn.functional as F\n",
        "import torch.optim as optim\n",
        "\n",
        "from torch.autograd import Variable"
      ],
      "execution_count": 213,
      "outputs": []
    },
    {
      "cell_type": "code",
      "metadata": {
        "id": "B8RA3s7O7Zmc"
      },
      "source": [
        "dataset = pd.read_csv('/content/drive/My Drive/toy/Churn_Modelling.csv')"
      ],
      "execution_count": 214,
      "outputs": []
    },
    {
      "cell_type": "code",
      "metadata": {
        "id": "8uoCSOlG86BB",
        "outputId": "08b853ea-96ab-4d17-a2ed-169974943644",
        "colab": {
          "base_uri": "https://localhost:8080/",
          "height": 226
        }
      },
      "source": [
        "dataset.head()"
      ],
      "execution_count": 215,
      "outputs": [
        {
          "output_type": "execute_result",
          "data": {
            "text/html": [
              "<div>\n",
              "<style scoped>\n",
              "    .dataframe tbody tr th:only-of-type {\n",
              "        vertical-align: middle;\n",
              "    }\n",
              "\n",
              "    .dataframe tbody tr th {\n",
              "        vertical-align: top;\n",
              "    }\n",
              "\n",
              "    .dataframe thead th {\n",
              "        text-align: right;\n",
              "    }\n",
              "</style>\n",
              "<table border=\"1\" class=\"dataframe\">\n",
              "  <thead>\n",
              "    <tr style=\"text-align: right;\">\n",
              "      <th></th>\n",
              "      <th>RowNumber</th>\n",
              "      <th>CustomerId</th>\n",
              "      <th>Surname</th>\n",
              "      <th>CreditScore</th>\n",
              "      <th>Geography</th>\n",
              "      <th>Gender</th>\n",
              "      <th>Age</th>\n",
              "      <th>Tenure</th>\n",
              "      <th>Balance</th>\n",
              "      <th>NumOfProducts</th>\n",
              "      <th>HasCrCard</th>\n",
              "      <th>IsActiveMember</th>\n",
              "      <th>EstimatedSalary</th>\n",
              "      <th>Exited</th>\n",
              "    </tr>\n",
              "  </thead>\n",
              "  <tbody>\n",
              "    <tr>\n",
              "      <th>0</th>\n",
              "      <td>1</td>\n",
              "      <td>15634602</td>\n",
              "      <td>Hargrave</td>\n",
              "      <td>619</td>\n",
              "      <td>France</td>\n",
              "      <td>Female</td>\n",
              "      <td>42</td>\n",
              "      <td>2</td>\n",
              "      <td>0.00</td>\n",
              "      <td>1</td>\n",
              "      <td>1</td>\n",
              "      <td>1</td>\n",
              "      <td>101348.88</td>\n",
              "      <td>1</td>\n",
              "    </tr>\n",
              "    <tr>\n",
              "      <th>1</th>\n",
              "      <td>2</td>\n",
              "      <td>15647311</td>\n",
              "      <td>Hill</td>\n",
              "      <td>608</td>\n",
              "      <td>Spain</td>\n",
              "      <td>Female</td>\n",
              "      <td>41</td>\n",
              "      <td>1</td>\n",
              "      <td>83807.86</td>\n",
              "      <td>1</td>\n",
              "      <td>0</td>\n",
              "      <td>1</td>\n",
              "      <td>112542.58</td>\n",
              "      <td>0</td>\n",
              "    </tr>\n",
              "    <tr>\n",
              "      <th>2</th>\n",
              "      <td>3</td>\n",
              "      <td>15619304</td>\n",
              "      <td>Onio</td>\n",
              "      <td>502</td>\n",
              "      <td>France</td>\n",
              "      <td>Female</td>\n",
              "      <td>42</td>\n",
              "      <td>8</td>\n",
              "      <td>159660.80</td>\n",
              "      <td>3</td>\n",
              "      <td>1</td>\n",
              "      <td>0</td>\n",
              "      <td>113931.57</td>\n",
              "      <td>1</td>\n",
              "    </tr>\n",
              "    <tr>\n",
              "      <th>3</th>\n",
              "      <td>4</td>\n",
              "      <td>15701354</td>\n",
              "      <td>Boni</td>\n",
              "      <td>699</td>\n",
              "      <td>France</td>\n",
              "      <td>Female</td>\n",
              "      <td>39</td>\n",
              "      <td>1</td>\n",
              "      <td>0.00</td>\n",
              "      <td>2</td>\n",
              "      <td>0</td>\n",
              "      <td>0</td>\n",
              "      <td>93826.63</td>\n",
              "      <td>0</td>\n",
              "    </tr>\n",
              "    <tr>\n",
              "      <th>4</th>\n",
              "      <td>5</td>\n",
              "      <td>15737888</td>\n",
              "      <td>Mitchell</td>\n",
              "      <td>850</td>\n",
              "      <td>Spain</td>\n",
              "      <td>Female</td>\n",
              "      <td>43</td>\n",
              "      <td>2</td>\n",
              "      <td>125510.82</td>\n",
              "      <td>1</td>\n",
              "      <td>1</td>\n",
              "      <td>1</td>\n",
              "      <td>79084.10</td>\n",
              "      <td>0</td>\n",
              "    </tr>\n",
              "  </tbody>\n",
              "</table>\n",
              "</div>"
            ],
            "text/plain": [
              "   RowNumber  CustomerId   Surname  ...  IsActiveMember EstimatedSalary Exited\n",
              "0          1    15634602  Hargrave  ...               1       101348.88      1\n",
              "1          2    15647311      Hill  ...               1       112542.58      0\n",
              "2          3    15619304      Onio  ...               0       113931.57      1\n",
              "3          4    15701354      Boni  ...               0        93826.63      0\n",
              "4          5    15737888  Mitchell  ...               1        79084.10      0\n",
              "\n",
              "[5 rows x 14 columns]"
            ]
          },
          "metadata": {
            "tags": []
          },
          "execution_count": 215
        }
      ]
    },
    {
      "cell_type": "code",
      "metadata": {
        "id": "VycT_dnk-QKd"
      },
      "source": [
        "X = dataset.iloc[:, 3:-1].values\n",
        "y = dataset.iloc[:, -1].values"
      ],
      "execution_count": 216,
      "outputs": []
    },
    {
      "cell_type": "code",
      "metadata": {
        "id": "haaT16LV-ia5"
      },
      "source": [
        "from sklearn.preprocessing import LabelEncoder\n",
        "le = LabelEncoder()\n",
        "X[:, 2] = le.fit_transform(X[:, 2])"
      ],
      "execution_count": 217,
      "outputs": []
    },
    {
      "cell_type": "code",
      "metadata": {
        "id": "_AqHK3gf-ikg"
      },
      "source": [
        "from sklearn.compose import ColumnTransformer\n",
        "from sklearn.preprocessing import OneHotEncoder\n",
        "ct = ColumnTransformer(transformers=[('encoder', OneHotEncoder(), [1])], remainder='passthrough')\n",
        "X = np.array(ct.fit_transform(X))"
      ],
      "execution_count": 218,
      "outputs": []
    },
    {
      "cell_type": "code",
      "metadata": {
        "id": "mQs7qifn-2ic"
      },
      "source": [
        "# Normalization\n",
        "from sklearn.preprocessing import StandardScaler\n",
        "sc = StandardScaler()\n",
        "X = sc.fit_transform(X)"
      ],
      "execution_count": 219,
      "outputs": []
    },
    {
      "cell_type": "code",
      "metadata": {
        "id": "ptVEq58z-4fM"
      },
      "source": [
        "from sklearn.model_selection import train_test_split\n",
        "X_train, X_test, y_train, y_test = train_test_split(X, y, test_size = 0.2, random_state = 0)"
      ],
      "execution_count": 220,
      "outputs": []
    },
    {
      "cell_type": "code",
      "metadata": {
        "id": "a1bM-kS1Wawy",
        "outputId": "67d95d5e-8127-4c3c-c078-2d4e3692b2f2",
        "colab": {
          "base_uri": "https://localhost:8080/",
          "height": 34
        }
      },
      "source": [
        "y_train"
      ],
      "execution_count": 221,
      "outputs": [
        {
          "output_type": "execute_result",
          "data": {
            "text/plain": [
              "array([0, 0, 0, ..., 0, 0, 1])"
            ]
          },
          "metadata": {
            "tags": []
          },
          "execution_count": 221
        }
      ]
    },
    {
      "cell_type": "code",
      "metadata": {
        "id": "wyB3hXh_bF06",
        "outputId": "0317a02e-83fb-4f75-a3c5-9c8ae2652621",
        "colab": {
          "base_uri": "https://localhost:8080/",
          "height": 34
        }
      },
      "source": [
        "y = torch.from_numpy(y_train)\n",
        "y.shape"
      ],
      "execution_count": 222,
      "outputs": [
        {
          "output_type": "execute_result",
          "data": {
            "text/plain": [
              "torch.Size([8000])"
            ]
          },
          "metadata": {
            "tags": []
          },
          "execution_count": 222
        }
      ]
    },
    {
      "cell_type": "code",
      "metadata": {
        "id": "B4D_moeGf-FF"
      },
      "source": [
        "# class Net(nn.Module):\n",
        "#     def __init__(self):\n",
        "#         super(Net, self).__init__()\n",
        "#         self.fc1 = nn.Linear(12, 512)           \n",
        "#         self.fc2 = nn.Linear(512, 512)          \n",
        "#         self.fc3 = nn.Linear(512, 2)\n",
        "#         self.dropout = nn.Dropout(0.2)\n",
        "        \n",
        "#     def forward(self, x):\n",
        "#         x = F.relu(self.fc1(x))\n",
        "#         x = self.dropout(x)\n",
        "#         x = F.relu(self.fc2(x))\n",
        "#         x = self.dropout(x)\n",
        "#         x = self.fc3(x)\n",
        "#         return x\n",
        "# model = Net()\n",
        "# model"
      ],
      "execution_count": 223,
      "outputs": []
    },
    {
      "cell_type": "code",
      "metadata": {
        "id": "lwEfTN-Gv7Fz",
        "outputId": "e3f344f1-6844-4235-df00-3ae97ff26504",
        "colab": {
          "base_uri": "https://localhost:8080/",
          "height": 86
        }
      },
      "source": [
        "class Net(nn.Module):\n",
        "    def __init__(self):\n",
        "        super(Net, self).__init__()\n",
        "        self.fc1 = nn.Linear(12,512)            # obviamente tem que bater com as features, e a input\n",
        "        self.fc2 = nn.Linear(512, 2)            # 512 escolhemos aleatoriamente, sao as hidden features\n",
        "        \n",
        "    def forward(self, x):\n",
        "        x = torch.tanh(self.fc1(x))\n",
        "        x = self.fc2(x)\n",
        "        x = F.softmax(x, dim=1)\n",
        "        return x\n",
        "\n",
        "model = Net()\n",
        "model\n",
        "\n",
        "# Metodo basico:\n",
        "# model = nn.Sequential(\n",
        "#             nn.Linear(12, 512),\n",
        "#             nn.Tanh(),\n",
        "#             nn.Linear(512, 2),\n",
        "#             nn.Softmax(dim=1))"
      ],
      "execution_count": 224,
      "outputs": [
        {
          "output_type": "execute_result",
          "data": {
            "text/plain": [
              "Net(\n",
              "  (fc1): Linear(in_features=12, out_features=512, bias=True)\n",
              "  (fc2): Linear(in_features=512, out_features=2, bias=True)\n",
              ")"
            ]
          },
          "metadata": {
            "tags": []
          },
          "execution_count": 224
        }
      ]
    },
    {
      "cell_type": "code",
      "metadata": {
        "id": "h2TkOqwFjV30",
        "outputId": "88714c2b-abcd-4b38-de9d-0c66d41f66cf",
        "colab": {
          "base_uri": "https://localhost:8080/",
          "height": 86
        }
      },
      "source": [
        "[param.shape for param in model.parameters()]"
      ],
      "execution_count": 225,
      "outputs": [
        {
          "output_type": "execute_result",
          "data": {
            "text/plain": [
              "[torch.Size([512, 12]),\n",
              " torch.Size([512]),\n",
              " torch.Size([2, 512]),\n",
              " torch.Size([2])]"
            ]
          },
          "metadata": {
            "tags": []
          },
          "execution_count": 225
        }
      ]
    },
    {
      "cell_type": "code",
      "metadata": {
        "id": "gdznKemjkVqB",
        "outputId": "42504127-5ceb-41be-e7d8-19ad769a239e",
        "colab": {
          "base_uri": "https://localhost:8080/",
          "height": 86
        }
      },
      "source": [
        "for name, param in model.named_parameters():\n",
        "  print(name, param.shape)"
      ],
      "execution_count": 226,
      "outputs": [
        {
          "output_type": "stream",
          "text": [
            "fc1.weight torch.Size([512, 12])\n",
            "fc1.bias torch.Size([512])\n",
            "fc2.weight torch.Size([2, 512])\n",
            "fc2.bias torch.Size([2])\n"
          ],
          "name": "stdout"
        }
      ]
    },
    {
      "cell_type": "code",
      "metadata": {
        "id": "QM2Whiw0iaDM",
        "outputId": "b261f57f-a4d3-4938-90d9-5a1a210915f1",
        "colab": {
          "base_uri": "https://localhost:8080/",
          "height": 34
        }
      },
      "source": [
        "batch_no * 64"
      ],
      "execution_count": 236,
      "outputs": [
        {
          "output_type": "execute_result",
          "data": {
            "text/plain": [
              "8000"
            ]
          },
          "metadata": {
            "tags": []
          },
          "execution_count": 236
        }
      ]
    },
    {
      "cell_type": "code",
      "metadata": {
        "id": "whD2-bwaV2yj",
        "outputId": "7c83d0f3-b33e-4ed6-eeea-13341d82ab30",
        "colab": {
          "base_uri": "https://localhost:8080/",
          "height": 1000
        }
      },
      "source": [
        "loss_fn = nn.CrossEntropyLoss()                       # Lembrar que ao menos 2 outputs, para multilabel. Could use a BCEloss para binary.\n",
        "optimizer = torch.optim.SGD(model.parameters(), lr=0.01)\n",
        "\n",
        "batch_size = 64\n",
        "n_epochs = 200\n",
        "batch_no = len(X_train) // batch_size                 # 125. 125 * 64 = 8000\n",
        "\n",
        "train_loss = 0\n",
        "train_loss_min = np.Inf\n",
        "for epoch in range(n_epochs):\n",
        "    for i in range(batch_no):\n",
        "        start = i * batch_size\n",
        "        end = start + batch_size\n",
        "        x_var = Variable(torch.FloatTensor(X_train[start:end]))\n",
        "        y_var = Variable(torch.LongTensor(y_train[start:end])) \n",
        "        \n",
        "        # output = model(x_var)\n",
        "        # loss = loss_fn(output,y_var)\n",
        "\n",
        "\n",
        "        optimizer.zero_grad()\n",
        "        output = model(x_var)\n",
        "        loss = loss_fn(output,y_var)\n",
        "        loss.backward()\n",
        "        optimizer.step()\n",
        "        \n",
        "        values, labels = torch.max(output, 1)\n",
        "        num_right = np.sum(labels.data.numpy() == y_train[start:end])\n",
        "        train_loss += loss.item() * batch_size\n",
        "    \n",
        "    train_loss = train_loss / len(X_train)\n",
        "    if train_loss <= train_loss_min:\n",
        "        print(\"Validation loss decreased ({:6f} ===> {:6f}). Saving the model...\".format(train_loss_min,train_loss))\n",
        "        torch.save(model.state_dict(), \"model.pt\")\n",
        "        train_loss_min = train_loss\n",
        "    \n",
        "    if epoch % 200 == 0:\n",
        "        print('')\n",
        "        print(\"Epoch: {} \\tTrain Loss: {} \\tTrain Accuracy: {}\".format(epoch + 1, train_loss,num_right / len(y_train[start:end])))\n",
        "print('Training Ended! ')"
      ],
      "execution_count": 227,
      "outputs": [
        {
          "output_type": "stream",
          "text": [
            "Validation loss decreased (   inf ===> 0.570849). Saving the model...\n",
            "\n",
            "Epoch: 1 \tTrain Loss: 0.570849015712738 \tTrain Accuracy: 0.84375\n",
            "Validation loss decreased (0.570849 ===> 0.516916). Saving the model...\n",
            "Validation loss decreased (0.516916 ===> 0.507635). Saving the model...\n",
            "Validation loss decreased (0.507635 ===> 0.503356). Saving the model...\n",
            "Validation loss decreased (0.503356 ===> 0.500733). Saving the model...\n",
            "Validation loss decreased (0.500733 ===> 0.498886). Saving the model...\n",
            "Validation loss decreased (0.498886 ===> 0.497474). Saving the model...\n",
            "Validation loss decreased (0.497474 ===> 0.496332). Saving the model...\n",
            "Validation loss decreased (0.496332 ===> 0.495374). Saving the model...\n",
            "Validation loss decreased (0.495374 ===> 0.494547). Saving the model...\n",
            "Validation loss decreased (0.494547 ===> 0.493818). Saving the model...\n",
            "Validation loss decreased (0.493818 ===> 0.493165). Saving the model...\n",
            "Validation loss decreased (0.493165 ===> 0.492574). Saving the model...\n",
            "Validation loss decreased (0.492574 ===> 0.492032). Saving the model...\n",
            "Validation loss decreased (0.492032 ===> 0.491532). Saving the model...\n",
            "Validation loss decreased (0.491532 ===> 0.491067). Saving the model...\n",
            "Validation loss decreased (0.491067 ===> 0.490633). Saving the model...\n",
            "Validation loss decreased (0.490633 ===> 0.490225). Saving the model...\n",
            "Validation loss decreased (0.490225 ===> 0.489840). Saving the model...\n",
            "Validation loss decreased (0.489840 ===> 0.489475). Saving the model...\n",
            "Validation loss decreased (0.489475 ===> 0.489129). Saving the model...\n",
            "Validation loss decreased (0.489129 ===> 0.488800). Saving the model...\n",
            "Validation loss decreased (0.488800 ===> 0.488485). Saving the model...\n",
            "Validation loss decreased (0.488485 ===> 0.488183). Saving the model...\n",
            "Validation loss decreased (0.488183 ===> 0.487894). Saving the model...\n",
            "Validation loss decreased (0.487894 ===> 0.487616). Saving the model...\n",
            "Validation loss decreased (0.487616 ===> 0.487348). Saving the model...\n",
            "Validation loss decreased (0.487348 ===> 0.487089). Saving the model...\n",
            "Validation loss decreased (0.487089 ===> 0.486839). Saving the model...\n",
            "Validation loss decreased (0.486839 ===> 0.486597). Saving the model...\n",
            "Validation loss decreased (0.486597 ===> 0.486362). Saving the model...\n",
            "Validation loss decreased (0.486362 ===> 0.486135). Saving the model...\n",
            "Validation loss decreased (0.486135 ===> 0.485914). Saving the model...\n",
            "Validation loss decreased (0.485914 ===> 0.485699). Saving the model...\n",
            "Validation loss decreased (0.485699 ===> 0.485490). Saving the model...\n",
            "Validation loss decreased (0.485490 ===> 0.485286). Saving the model...\n",
            "Validation loss decreased (0.485286 ===> 0.485088). Saving the model...\n",
            "Validation loss decreased (0.485088 ===> 0.484894). Saving the model...\n",
            "Validation loss decreased (0.484894 ===> 0.484705). Saving the model...\n",
            "Validation loss decreased (0.484705 ===> 0.484521). Saving the model...\n",
            "Validation loss decreased (0.484521 ===> 0.484341). Saving the model...\n",
            "Validation loss decreased (0.484341 ===> 0.484166). Saving the model...\n",
            "Validation loss decreased (0.484166 ===> 0.483994). Saving the model...\n",
            "Validation loss decreased (0.483994 ===> 0.483826). Saving the model...\n",
            "Validation loss decreased (0.483826 ===> 0.483662). Saving the model...\n",
            "Validation loss decreased (0.483662 ===> 0.483501). Saving the model...\n",
            "Validation loss decreased (0.483501 ===> 0.483344). Saving the model...\n",
            "Validation loss decreased (0.483344 ===> 0.483191). Saving the model...\n",
            "Validation loss decreased (0.483191 ===> 0.483040). Saving the model...\n",
            "Validation loss decreased (0.483040 ===> 0.482893). Saving the model...\n",
            "Validation loss decreased (0.482893 ===> 0.482749). Saving the model...\n",
            "Validation loss decreased (0.482749 ===> 0.482608). Saving the model...\n",
            "Validation loss decreased (0.482608 ===> 0.482470). Saving the model...\n",
            "Validation loss decreased (0.482470 ===> 0.482334). Saving the model...\n",
            "Validation loss decreased (0.482334 ===> 0.482202). Saving the model...\n",
            "Validation loss decreased (0.482202 ===> 0.482072). Saving the model...\n",
            "Validation loss decreased (0.482072 ===> 0.481945). Saving the model...\n",
            "Validation loss decreased (0.481945 ===> 0.481820). Saving the model...\n",
            "Validation loss decreased (0.481820 ===> 0.481698). Saving the model...\n",
            "Validation loss decreased (0.481698 ===> 0.481579). Saving the model...\n",
            "Validation loss decreased (0.481579 ===> 0.481461). Saving the model...\n",
            "Validation loss decreased (0.481461 ===> 0.481346). Saving the model...\n",
            "Validation loss decreased (0.481346 ===> 0.481233). Saving the model...\n",
            "Validation loss decreased (0.481233 ===> 0.481123). Saving the model...\n",
            "Validation loss decreased (0.481123 ===> 0.481014). Saving the model...\n",
            "Validation loss decreased (0.481014 ===> 0.480908). Saving the model...\n",
            "Validation loss decreased (0.480908 ===> 0.480803). Saving the model...\n",
            "Validation loss decreased (0.480803 ===> 0.480701). Saving the model...\n",
            "Validation loss decreased (0.480701 ===> 0.480600). Saving the model...\n",
            "Validation loss decreased (0.480600 ===> 0.480501). Saving the model...\n",
            "Validation loss decreased (0.480501 ===> 0.480404). Saving the model...\n",
            "Validation loss decreased (0.480404 ===> 0.480309). Saving the model...\n",
            "Validation loss decreased (0.480309 ===> 0.480215). Saving the model...\n",
            "Validation loss decreased (0.480215 ===> 0.480123). Saving the model...\n",
            "Validation loss decreased (0.480123 ===> 0.480033). Saving the model...\n",
            "Validation loss decreased (0.480033 ===> 0.479944). Saving the model...\n",
            "Validation loss decreased (0.479944 ===> 0.479857). Saving the model...\n",
            "Validation loss decreased (0.479857 ===> 0.479771). Saving the model...\n",
            "Validation loss decreased (0.479771 ===> 0.479686). Saving the model...\n",
            "Validation loss decreased (0.479686 ===> 0.479603). Saving the model...\n",
            "Validation loss decreased (0.479603 ===> 0.479521). Saving the model...\n",
            "Validation loss decreased (0.479521 ===> 0.479441). Saving the model...\n",
            "Validation loss decreased (0.479441 ===> 0.479362). Saving the model...\n",
            "Validation loss decreased (0.479362 ===> 0.479284). Saving the model...\n",
            "Validation loss decreased (0.479284 ===> 0.479207). Saving the model...\n",
            "Validation loss decreased (0.479207 ===> 0.479132). Saving the model...\n",
            "Validation loss decreased (0.479132 ===> 0.479057). Saving the model...\n",
            "Validation loss decreased (0.479057 ===> 0.478984). Saving the model...\n",
            "Validation loss decreased (0.478984 ===> 0.478912). Saving the model...\n",
            "Validation loss decreased (0.478912 ===> 0.478841). Saving the model...\n",
            "Validation loss decreased (0.478841 ===> 0.478771). Saving the model...\n",
            "Validation loss decreased (0.478771 ===> 0.478702). Saving the model...\n",
            "Validation loss decreased (0.478702 ===> 0.478634). Saving the model...\n",
            "Validation loss decreased (0.478634 ===> 0.478567). Saving the model...\n",
            "Validation loss decreased (0.478567 ===> 0.478500). Saving the model...\n",
            "Validation loss decreased (0.478500 ===> 0.478435). Saving the model...\n",
            "Validation loss decreased (0.478435 ===> 0.478371). Saving the model...\n",
            "Validation loss decreased (0.478371 ===> 0.478307). Saving the model...\n",
            "Validation loss decreased (0.478307 ===> 0.478244). Saving the model...\n",
            "Validation loss decreased (0.478244 ===> 0.478182). Saving the model...\n",
            "Validation loss decreased (0.478182 ===> 0.478121). Saving the model...\n",
            "Validation loss decreased (0.478121 ===> 0.478061). Saving the model...\n",
            "Validation loss decreased (0.478061 ===> 0.478001). Saving the model...\n",
            "Validation loss decreased (0.478001 ===> 0.477942). Saving the model...\n",
            "Validation loss decreased (0.477942 ===> 0.477884). Saving the model...\n",
            "Validation loss decreased (0.477884 ===> 0.477827). Saving the model...\n",
            "Validation loss decreased (0.477827 ===> 0.477770). Saving the model...\n",
            "Validation loss decreased (0.477770 ===> 0.477714). Saving the model...\n",
            "Validation loss decreased (0.477714 ===> 0.477659). Saving the model...\n",
            "Validation loss decreased (0.477659 ===> 0.477604). Saving the model...\n",
            "Validation loss decreased (0.477604 ===> 0.477550). Saving the model...\n",
            "Validation loss decreased (0.477550 ===> 0.477496). Saving the model...\n",
            "Validation loss decreased (0.477496 ===> 0.477443). Saving the model...\n",
            "Validation loss decreased (0.477443 ===> 0.477391). Saving the model...\n",
            "Validation loss decreased (0.477391 ===> 0.477339). Saving the model...\n",
            "Validation loss decreased (0.477339 ===> 0.477288). Saving the model...\n",
            "Validation loss decreased (0.477288 ===> 0.477237). Saving the model...\n",
            "Validation loss decreased (0.477237 ===> 0.477187). Saving the model...\n",
            "Validation loss decreased (0.477187 ===> 0.477137). Saving the model...\n",
            "Validation loss decreased (0.477137 ===> 0.477088). Saving the model...\n",
            "Validation loss decreased (0.477088 ===> 0.477039). Saving the model...\n",
            "Validation loss decreased (0.477039 ===> 0.476991). Saving the model...\n",
            "Validation loss decreased (0.476991 ===> 0.476943). Saving the model...\n",
            "Validation loss decreased (0.476943 ===> 0.476896). Saving the model...\n",
            "Validation loss decreased (0.476896 ===> 0.476849). Saving the model...\n",
            "Validation loss decreased (0.476849 ===> 0.476803). Saving the model...\n",
            "Validation loss decreased (0.476803 ===> 0.476757). Saving the model...\n",
            "Validation loss decreased (0.476757 ===> 0.476711). Saving the model...\n",
            "Validation loss decreased (0.476711 ===> 0.476666). Saving the model...\n",
            "Validation loss decreased (0.476666 ===> 0.476621). Saving the model...\n",
            "Validation loss decreased (0.476621 ===> 0.476577). Saving the model...\n",
            "Validation loss decreased (0.476577 ===> 0.476533). Saving the model...\n",
            "Validation loss decreased (0.476533 ===> 0.476489). Saving the model...\n",
            "Validation loss decreased (0.476489 ===> 0.476446). Saving the model...\n",
            "Validation loss decreased (0.476446 ===> 0.476403). Saving the model...\n",
            "Validation loss decreased (0.476403 ===> 0.476361). Saving the model...\n",
            "Validation loss decreased (0.476361 ===> 0.476319). Saving the model...\n",
            "Validation loss decreased (0.476319 ===> 0.476277). Saving the model...\n",
            "Validation loss decreased (0.476277 ===> 0.476235). Saving the model...\n",
            "Validation loss decreased (0.476235 ===> 0.476194). Saving the model...\n",
            "Validation loss decreased (0.476194 ===> 0.476153). Saving the model...\n",
            "Validation loss decreased (0.476153 ===> 0.476113). Saving the model...\n",
            "Validation loss decreased (0.476113 ===> 0.476072). Saving the model...\n",
            "Validation loss decreased (0.476072 ===> 0.476032). Saving the model...\n",
            "Validation loss decreased (0.476032 ===> 0.475993). Saving the model...\n",
            "Validation loss decreased (0.475993 ===> 0.475953). Saving the model...\n",
            "Validation loss decreased (0.475953 ===> 0.475914). Saving the model...\n",
            "Validation loss decreased (0.475914 ===> 0.475875). Saving the model...\n",
            "Validation loss decreased (0.475875 ===> 0.475837). Saving the model...\n",
            "Validation loss decreased (0.475837 ===> 0.475799). Saving the model...\n",
            "Validation loss decreased (0.475799 ===> 0.475760). Saving the model...\n",
            "Validation loss decreased (0.475760 ===> 0.475723). Saving the model...\n",
            "Validation loss decreased (0.475723 ===> 0.475685). Saving the model...\n",
            "Validation loss decreased (0.475685 ===> 0.475648). Saving the model...\n",
            "Validation loss decreased (0.475648 ===> 0.475611). Saving the model...\n",
            "Validation loss decreased (0.475611 ===> 0.475574). Saving the model...\n",
            "Validation loss decreased (0.475574 ===> 0.475537). Saving the model...\n",
            "Validation loss decreased (0.475537 ===> 0.475501). Saving the model...\n",
            "Validation loss decreased (0.475501 ===> 0.475464). Saving the model...\n",
            "Validation loss decreased (0.475464 ===> 0.475428). Saving the model...\n",
            "Validation loss decreased (0.475428 ===> 0.475393). Saving the model...\n",
            "Validation loss decreased (0.475393 ===> 0.475357). Saving the model...\n",
            "Validation loss decreased (0.475357 ===> 0.475322). Saving the model...\n",
            "Validation loss decreased (0.475322 ===> 0.475287). Saving the model...\n",
            "Validation loss decreased (0.475287 ===> 0.475252). Saving the model...\n",
            "Validation loss decreased (0.475252 ===> 0.475217). Saving the model...\n",
            "Validation loss decreased (0.475217 ===> 0.475182). Saving the model...\n",
            "Validation loss decreased (0.475182 ===> 0.475148). Saving the model...\n",
            "Validation loss decreased (0.475148 ===> 0.475113). Saving the model...\n",
            "Validation loss decreased (0.475113 ===> 0.475079). Saving the model...\n",
            "Validation loss decreased (0.475079 ===> 0.475045). Saving the model...\n",
            "Validation loss decreased (0.475045 ===> 0.475012). Saving the model...\n",
            "Validation loss decreased (0.475012 ===> 0.474978). Saving the model...\n",
            "Validation loss decreased (0.474978 ===> 0.474944). Saving the model...\n",
            "Validation loss decreased (0.474944 ===> 0.474911). Saving the model...\n",
            "Validation loss decreased (0.474911 ===> 0.474878). Saving the model...\n",
            "Validation loss decreased (0.474878 ===> 0.474845). Saving the model...\n",
            "Validation loss decreased (0.474845 ===> 0.474812). Saving the model...\n",
            "Validation loss decreased (0.474812 ===> 0.474780). Saving the model...\n",
            "Validation loss decreased (0.474780 ===> 0.474747). Saving the model...\n",
            "Validation loss decreased (0.474747 ===> 0.474715). Saving the model...\n",
            "Validation loss decreased (0.474715 ===> 0.474682). Saving the model...\n",
            "Validation loss decreased (0.474682 ===> 0.474650). Saving the model...\n",
            "Validation loss decreased (0.474650 ===> 0.474618). Saving the model...\n",
            "Validation loss decreased (0.474618 ===> 0.474586). Saving the model...\n",
            "Validation loss decreased (0.474586 ===> 0.474554). Saving the model...\n",
            "Validation loss decreased (0.474554 ===> 0.474523). Saving the model...\n",
            "Validation loss decreased (0.474523 ===> 0.474491). Saving the model...\n",
            "Validation loss decreased (0.474491 ===> 0.474460). Saving the model...\n",
            "Validation loss decreased (0.474460 ===> 0.474429). Saving the model...\n",
            "Validation loss decreased (0.474429 ===> 0.474398). Saving the model...\n",
            "Validation loss decreased (0.474398 ===> 0.474366). Saving the model...\n",
            "Validation loss decreased (0.474366 ===> 0.474336). Saving the model...\n",
            "Validation loss decreased (0.474336 ===> 0.474305). Saving the model...\n",
            "Validation loss decreased (0.474305 ===> 0.474274). Saving the model...\n",
            "Validation loss decreased (0.474274 ===> 0.474243). Saving the model...\n",
            "Validation loss decreased (0.474243 ===> 0.474213). Saving the model...\n",
            "Validation loss decreased (0.474213 ===> 0.474182). Saving the model...\n",
            "Validation loss decreased (0.474182 ===> 0.474152). Saving the model...\n",
            "Validation loss decreased (0.474152 ===> 0.474122). Saving the model...\n",
            "Training Ended! \n"
          ],
          "name": "stdout"
        }
      ]
    },
    {
      "cell_type": "code",
      "metadata": {
        "id": "O4sF_U7hYTTs"
      },
      "source": [
        "X_test_var = Variable(torch.FloatTensor(X_test), requires_grad=False) \n",
        "with torch.no_grad():\n",
        "    test_result = model(X_test_var)\n",
        "values, labels = torch.max(test_result, dim=1)"
      ],
      "execution_count": 228,
      "outputs": []
    },
    {
      "cell_type": "code",
      "metadata": {
        "id": "jptMFmm6d7Bh",
        "outputId": "c3744b75-0ebb-4bf2-d685-e13b0d11f0f7",
        "colab": {
          "base_uri": "https://localhost:8080/",
          "height": 139
        }
      },
      "source": [
        "test_result"
      ],
      "execution_count": 229,
      "outputs": [
        {
          "output_type": "execute_result",
          "data": {
            "text/plain": [
              "tensor([[1.0000e+00, 7.5605e-07],\n",
              "        [8.6843e-01, 1.3157e-01],\n",
              "        [1.0000e+00, 9.8866e-07],\n",
              "        ...,\n",
              "        [9.8655e-01, 1.3450e-02],\n",
              "        [1.0000e+00, 2.3970e-07],\n",
              "        [9.8574e-01, 1.4256e-02]])"
            ]
          },
          "metadata": {
            "tags": []
          },
          "execution_count": 229
        }
      ]
    },
    {
      "cell_type": "code",
      "metadata": {
        "id": "RyWVdgyfgsPo",
        "outputId": "1d76643c-3492-4b41-aed4-725c3a0dcda8",
        "colab": {
          "base_uri": "https://localhost:8080/",
          "height": 54
        }
      },
      "source": [
        "torch.max(test_result, 1)"
      ],
      "execution_count": 230,
      "outputs": [
        {
          "output_type": "execute_result",
          "data": {
            "text/plain": [
              "torch.return_types.max(values=tensor([1.0000, 0.8684, 1.0000,  ..., 0.9865, 1.0000, 0.9857]), indices=tensor([0, 0, 0,  ..., 0, 0, 0]))"
            ]
          },
          "metadata": {
            "tags": []
          },
          "execution_count": 230
        }
      ]
    },
    {
      "cell_type": "code",
      "metadata": {
        "id": "rvsEA2CmfuqH",
        "outputId": "a74680f5-b9c7-484b-db6c-57d4fff88844",
        "colab": {
          "base_uri": "https://localhost:8080/",
          "height": 34
        }
      },
      "source": [
        "values"
      ],
      "execution_count": 231,
      "outputs": [
        {
          "output_type": "execute_result",
          "data": {
            "text/plain": [
              "tensor([1.0000, 0.8684, 1.0000,  ..., 0.9865, 1.0000, 0.9857])"
            ]
          },
          "metadata": {
            "tags": []
          },
          "execution_count": 231
        }
      ]
    },
    {
      "cell_type": "code",
      "metadata": {
        "id": "FSb8HXDPg5po",
        "outputId": "f8476069-9ea0-4a46-a2be-9fadfb334aaa",
        "colab": {
          "base_uri": "https://localhost:8080/",
          "height": 34
        }
      },
      "source": [
        "labels"
      ],
      "execution_count": 232,
      "outputs": [
        {
          "output_type": "execute_result",
          "data": {
            "text/plain": [
              "tensor([0, 0, 0,  ..., 0, 0, 0])"
            ]
          },
          "metadata": {
            "tags": []
          },
          "execution_count": 232
        }
      ]
    },
    {
      "cell_type": "code",
      "metadata": {
        "id": "SqtORMVUZU2i",
        "outputId": "a9204ce6-010d-445b-c0ac-ec1ec2ac0e7d",
        "colab": {
          "base_uri": "https://localhost:8080/",
          "height": 34
        }
      },
      "source": [
        "from sklearn import metrics\n",
        "metrics.accuracy_score(y_test, labels)"
      ],
      "execution_count": 233,
      "outputs": [
        {
          "output_type": "execute_result",
          "data": {
            "text/plain": [
              "0.846"
            ]
          },
          "metadata": {
            "tags": []
          },
          "execution_count": 233
        }
      ]
    },
    {
      "cell_type": "code",
      "metadata": {
        "id": "ggymnl7a_EzM",
        "outputId": "0f10e63c-aa2d-4842-f7ab-97e16c5f9eae",
        "colab": {
          "base_uri": "https://localhost:8080/",
          "height": 34
        }
      },
      "source": [
        "x_var = Variable(torch.FloatTensor(X_train[start:end]))\n",
        "x_var.dtype"
      ],
      "execution_count": 234,
      "outputs": [
        {
          "output_type": "execute_result",
          "data": {
            "text/plain": [
              "torch.float32"
            ]
          },
          "metadata": {
            "tags": []
          },
          "execution_count": 234
        }
      ]
    }
  ]
}