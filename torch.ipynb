{
  "nbformat": 4,
  "nbformat_minor": 0,
  "metadata": {
    "colab": {
      "name": "torch.ipynb",
      "provenance": [],
      "collapsed_sections": [],
      "toc_visible": true
    },
    "kernelspec": {
      "name": "python3",
      "display_name": "Python 3"
    }
  },
  "cells": [
    {
      "cell_type": "code",
      "metadata": {
        "id": "H7T1B0OB7Y8K"
      },
      "source": [
        "import pandas as pd\n",
        "import numpy as np\n",
        "\n",
        "import torch\n",
        "import torch.nn as nn\n",
        "import torch.nn.functional as F\n",
        "import torch.optim as optim\n",
        "\n",
        "from torch.autograd import Variable"
      ],
      "execution_count": 118,
      "outputs": []
    },
    {
      "cell_type": "code",
      "metadata": {
        "id": "B8RA3s7O7Zmc"
      },
      "source": [
        "dataset = pd.read_csv('/content/drive/My Drive/toy/Churn_Modelling.csv')"
      ],
      "execution_count": 119,
      "outputs": []
    },
    {
      "cell_type": "code",
      "metadata": {
        "id": "d7lC2wk79Rxd"
      },
      "source": [
        "# dataset.drop(['RowNumber'],axis = 1, inplace = True)"
      ],
      "execution_count": 120,
      "outputs": []
    },
    {
      "cell_type": "code",
      "metadata": {
        "id": "8uoCSOlG86BB",
        "outputId": "c8bb9a47-e5b6-4976-83f4-6d693910d2df",
        "colab": {
          "base_uri": "https://localhost:8080/",
          "height": 226
        }
      },
      "source": [
        "dataset.head()"
      ],
      "execution_count": 121,
      "outputs": [
        {
          "output_type": "execute_result",
          "data": {
            "text/html": [
              "<div>\n",
              "<style scoped>\n",
              "    .dataframe tbody tr th:only-of-type {\n",
              "        vertical-align: middle;\n",
              "    }\n",
              "\n",
              "    .dataframe tbody tr th {\n",
              "        vertical-align: top;\n",
              "    }\n",
              "\n",
              "    .dataframe thead th {\n",
              "        text-align: right;\n",
              "    }\n",
              "</style>\n",
              "<table border=\"1\" class=\"dataframe\">\n",
              "  <thead>\n",
              "    <tr style=\"text-align: right;\">\n",
              "      <th></th>\n",
              "      <th>RowNumber</th>\n",
              "      <th>CustomerId</th>\n",
              "      <th>Surname</th>\n",
              "      <th>CreditScore</th>\n",
              "      <th>Geography</th>\n",
              "      <th>Gender</th>\n",
              "      <th>Age</th>\n",
              "      <th>Tenure</th>\n",
              "      <th>Balance</th>\n",
              "      <th>NumOfProducts</th>\n",
              "      <th>HasCrCard</th>\n",
              "      <th>IsActiveMember</th>\n",
              "      <th>EstimatedSalary</th>\n",
              "      <th>Exited</th>\n",
              "    </tr>\n",
              "  </thead>\n",
              "  <tbody>\n",
              "    <tr>\n",
              "      <th>0</th>\n",
              "      <td>1</td>\n",
              "      <td>15634602</td>\n",
              "      <td>Hargrave</td>\n",
              "      <td>619</td>\n",
              "      <td>France</td>\n",
              "      <td>Female</td>\n",
              "      <td>42</td>\n",
              "      <td>2</td>\n",
              "      <td>0.00</td>\n",
              "      <td>1</td>\n",
              "      <td>1</td>\n",
              "      <td>1</td>\n",
              "      <td>101348.88</td>\n",
              "      <td>1</td>\n",
              "    </tr>\n",
              "    <tr>\n",
              "      <th>1</th>\n",
              "      <td>2</td>\n",
              "      <td>15647311</td>\n",
              "      <td>Hill</td>\n",
              "      <td>608</td>\n",
              "      <td>Spain</td>\n",
              "      <td>Female</td>\n",
              "      <td>41</td>\n",
              "      <td>1</td>\n",
              "      <td>83807.86</td>\n",
              "      <td>1</td>\n",
              "      <td>0</td>\n",
              "      <td>1</td>\n",
              "      <td>112542.58</td>\n",
              "      <td>0</td>\n",
              "    </tr>\n",
              "    <tr>\n",
              "      <th>2</th>\n",
              "      <td>3</td>\n",
              "      <td>15619304</td>\n",
              "      <td>Onio</td>\n",
              "      <td>502</td>\n",
              "      <td>France</td>\n",
              "      <td>Female</td>\n",
              "      <td>42</td>\n",
              "      <td>8</td>\n",
              "      <td>159660.80</td>\n",
              "      <td>3</td>\n",
              "      <td>1</td>\n",
              "      <td>0</td>\n",
              "      <td>113931.57</td>\n",
              "      <td>1</td>\n",
              "    </tr>\n",
              "    <tr>\n",
              "      <th>3</th>\n",
              "      <td>4</td>\n",
              "      <td>15701354</td>\n",
              "      <td>Boni</td>\n",
              "      <td>699</td>\n",
              "      <td>France</td>\n",
              "      <td>Female</td>\n",
              "      <td>39</td>\n",
              "      <td>1</td>\n",
              "      <td>0.00</td>\n",
              "      <td>2</td>\n",
              "      <td>0</td>\n",
              "      <td>0</td>\n",
              "      <td>93826.63</td>\n",
              "      <td>0</td>\n",
              "    </tr>\n",
              "    <tr>\n",
              "      <th>4</th>\n",
              "      <td>5</td>\n",
              "      <td>15737888</td>\n",
              "      <td>Mitchell</td>\n",
              "      <td>850</td>\n",
              "      <td>Spain</td>\n",
              "      <td>Female</td>\n",
              "      <td>43</td>\n",
              "      <td>2</td>\n",
              "      <td>125510.82</td>\n",
              "      <td>1</td>\n",
              "      <td>1</td>\n",
              "      <td>1</td>\n",
              "      <td>79084.10</td>\n",
              "      <td>0</td>\n",
              "    </tr>\n",
              "  </tbody>\n",
              "</table>\n",
              "</div>"
            ],
            "text/plain": [
              "   RowNumber  CustomerId   Surname  ...  IsActiveMember EstimatedSalary Exited\n",
              "0          1    15634602  Hargrave  ...               1       101348.88      1\n",
              "1          2    15647311      Hill  ...               1       112542.58      0\n",
              "2          3    15619304      Onio  ...               0       113931.57      1\n",
              "3          4    15701354      Boni  ...               0        93826.63      0\n",
              "4          5    15737888  Mitchell  ...               1        79084.10      0\n",
              "\n",
              "[5 rows x 14 columns]"
            ]
          },
          "metadata": {
            "tags": []
          },
          "execution_count": 121
        }
      ]
    },
    {
      "cell_type": "code",
      "metadata": {
        "id": "VycT_dnk-QKd"
      },
      "source": [
        "X = dataset.iloc[:, 3:-1].values\n",
        "y = dataset.iloc[:, -1].values"
      ],
      "execution_count": 122,
      "outputs": []
    },
    {
      "cell_type": "code",
      "metadata": {
        "id": "haaT16LV-ia5"
      },
      "source": [
        "from sklearn.preprocessing import LabelEncoder\n",
        "le = LabelEncoder()\n",
        "X[:, 2] = le.fit_transform(X[:, 2])"
      ],
      "execution_count": 123,
      "outputs": []
    },
    {
      "cell_type": "code",
      "metadata": {
        "id": "_AqHK3gf-ikg"
      },
      "source": [
        "from sklearn.compose import ColumnTransformer\n",
        "from sklearn.preprocessing import OneHotEncoder\n",
        "ct = ColumnTransformer(transformers=[('encoder', OneHotEncoder(), [1])], remainder='passthrough')\n",
        "X = np.array(ct.fit_transform(X))"
      ],
      "execution_count": 124,
      "outputs": []
    },
    {
      "cell_type": "code",
      "metadata": {
        "id": "mQs7qifn-2ic"
      },
      "source": [
        "# Normalization\n",
        "from sklearn.preprocessing import StandardScaler\n",
        "sc = StandardScaler()\n",
        "X = sc.fit_transform(X)"
      ],
      "execution_count": 125,
      "outputs": []
    },
    {
      "cell_type": "code",
      "metadata": {
        "id": "ptVEq58z-4fM"
      },
      "source": [
        "from sklearn.model_selection import train_test_split\n",
        "X_train, X_test, y_train, y_test = train_test_split(X, y, test_size = 0.2, random_state = 0)"
      ],
      "execution_count": 126,
      "outputs": []
    },
    {
      "cell_type": "code",
      "metadata": {
        "id": "a1bM-kS1Wawy",
        "outputId": "36042160-76fe-4fdd-a5a3-93238daf58c7",
        "colab": {
          "base_uri": "https://localhost:8080/",
          "height": 34
        }
      },
      "source": [
        "y_train"
      ],
      "execution_count": 127,
      "outputs": [
        {
          "output_type": "execute_result",
          "data": {
            "text/plain": [
              "array([0, 0, 0, ..., 0, 0, 1])"
            ]
          },
          "metadata": {
            "tags": []
          },
          "execution_count": 127
        }
      ]
    },
    {
      "cell_type": "code",
      "metadata": {
        "id": "wyB3hXh_bF06",
        "outputId": "54a2ac58-54b6-41e9-9e14-b3ad12576ecb",
        "colab": {
          "base_uri": "https://localhost:8080/",
          "height": 34
        }
      },
      "source": [
        "y = torch.from_numpy(y_train)\n",
        "y.shape"
      ],
      "execution_count": 128,
      "outputs": [
        {
          "output_type": "execute_result",
          "data": {
            "text/plain": [
              "torch.Size([8000])"
            ]
          },
          "metadata": {
            "tags": []
          },
          "execution_count": 128
        }
      ]
    },
    {
      "cell_type": "code",
      "metadata": {
        "id": "dF3sIhBpbPU5"
      },
      "source": [
        "# y = y.unsqueeze(1)\n",
        "# y"
      ],
      "execution_count": 129,
      "outputs": []
    },
    {
      "cell_type": "code",
      "metadata": {
        "id": "iOo45US3bd9q"
      },
      "source": [
        ""
      ],
      "execution_count": 129,
      "outputs": []
    },
    {
      "cell_type": "code",
      "metadata": {
        "id": "Q-eTTFQ8ZmEK",
        "outputId": "cfa07fbb-9a84-4afa-d1df-02d5172db0c6",
        "colab": {
          "base_uri": "https://localhost:8080/",
          "height": 104
        }
      },
      "source": [
        "simple_net = nn.Sequential(\n",
        "    nn.Linear(28*28,30),\n",
        "    nn.ReLU(),\n",
        "    nn.Linear(30,1)\n",
        ")\n",
        "simple_net"
      ],
      "execution_count": 130,
      "outputs": [
        {
          "output_type": "execute_result",
          "data": {
            "text/plain": [
              "Sequential(\n",
              "  (0): Linear(in_features=784, out_features=30, bias=True)\n",
              "  (1): ReLU()\n",
              "  (2): Linear(in_features=30, out_features=1, bias=True)\n",
              ")"
            ]
          },
          "metadata": {
            "tags": []
          },
          "execution_count": 130
        }
      ]
    },
    {
      "cell_type": "code",
      "metadata": {
        "id": "B4D_moeGf-FF",
        "outputId": "f5542957-3d49-4311-d8d1-7accbb7c8983",
        "colab": {
          "base_uri": "https://localhost:8080/",
          "height": 121
        }
      },
      "source": [
        "class Net(nn.Module):\n",
        "    def __init__(self):\n",
        "        super(Net, self).__init__()\n",
        "        self.fc1 = nn.Linear(12, 512)         # obviamente tem que bater com as features, e a input\n",
        "        self.fc2 = nn.Linear(512, 512)        # escolhemos aleatoriamente, sao as hidden features\n",
        "        self.fc3 = nn.Linear(512, 2)\n",
        "        self.dropout = nn.Dropout(0.2)\n",
        "        \n",
        "    def forward(self, x):\n",
        "        x = F.relu(self.fc1(x))\n",
        "        x = self.dropout(x)\n",
        "        x = F.relu(self.fc2(x))\n",
        "        x = self.dropout(x)\n",
        "        x = self.fc3(x)\n",
        "        return x\n",
        "model = Net()\n",
        "model"
      ],
      "execution_count": 131,
      "outputs": [
        {
          "output_type": "execute_result",
          "data": {
            "text/plain": [
              "Net(\n",
              "  (fc1): Linear(in_features=12, out_features=512, bias=True)\n",
              "  (fc2): Linear(in_features=512, out_features=512, bias=True)\n",
              "  (fc3): Linear(in_features=512, out_features=2, bias=True)\n",
              "  (dropout): Dropout(p=0.2, inplace=False)\n",
              ")"
            ]
          },
          "metadata": {
            "tags": []
          },
          "execution_count": 131
        }
      ]
    },
    {
      "cell_type": "code",
      "metadata": {
        "id": "h2TkOqwFjV30",
        "outputId": "07a534d9-ff58-4a47-b5a5-a70fbadaa2eb",
        "colab": {
          "base_uri": "https://localhost:8080/",
          "height": 121
        }
      },
      "source": [
        "[param.shape for param in model.parameters()]"
      ],
      "execution_count": 137,
      "outputs": [
        {
          "output_type": "execute_result",
          "data": {
            "text/plain": [
              "[torch.Size([512, 12]),\n",
              " torch.Size([512]),\n",
              " torch.Size([512, 512]),\n",
              " torch.Size([512]),\n",
              " torch.Size([2, 512]),\n",
              " torch.Size([2])]"
            ]
          },
          "metadata": {
            "tags": []
          },
          "execution_count": 137
        }
      ]
    },
    {
      "cell_type": "code",
      "metadata": {
        "id": "gdznKemjkVqB",
        "outputId": "59055a68-7dde-419b-e5e2-e86c66982c9c",
        "colab": {
          "base_uri": "https://localhost:8080/",
          "height": 121
        }
      },
      "source": [
        "for name, param in model.named_parameters():\n",
        "  print(name, param.shape)"
      ],
      "execution_count": 140,
      "outputs": [
        {
          "output_type": "stream",
          "text": [
            "fc1.weight torch.Size([512, 12])\n",
            "fc1.bias torch.Size([512])\n",
            "fc2.weight torch.Size([512, 512])\n",
            "fc2.bias torch.Size([512])\n",
            "fc3.weight torch.Size([2, 512])\n",
            "fc3.bias torch.Size([2])\n"
          ],
          "name": "stdout"
        }
      ]
    },
    {
      "cell_type": "code",
      "metadata": {
        "id": "1KejwxDLZuvp",
        "outputId": "d03ceed2-78ca-4838-8976-119b80a15984",
        "colab": {
          "base_uri": "https://localhost:8080/",
          "height": 1000
        }
      },
      "source": [
        "criterion = nn.CrossEntropyLoss()\n",
        "optimizer = torch.optim.SGD(model.parameters(), lr=0.01)\n",
        "\n",
        "batch_size = 64\n",
        "n_epochs = 500\n",
        "batch_no = len(X_train) // batch_size\n",
        "\n",
        "train_loss = 0\n",
        "train_loss_min = np.Inf\n",
        "for epoch in range(n_epochs):\n",
        "    for i in range(batch_no):\n",
        "        start = i*batch_size\n",
        "        end = start+batch_size\n",
        "        x_var = Variable(torch.FloatTensor(X_train[start:end]))\n",
        "        y_var = Variable(torch.LongTensor(y_train[start:end])) \n",
        "        \n",
        "        optimizer.zero_grad()\n",
        "        output = model(x_var)\n",
        "        loss = criterion(output,y_var)\n",
        "        loss.backward()\n",
        "        optimizer.step()\n",
        "        \n",
        "        values, labels = torch.max(output, 1)\n",
        "        num_right = np.sum(labels.data.numpy() == y_train[start:end])\n",
        "        train_loss += loss.item()*batch_size\n",
        "    \n",
        "    train_loss = train_loss / len(X_train)\n",
        "    if train_loss <= train_loss_min:\n",
        "        print(\"Validation loss decreased ({:6f} ===> {:6f}). Saving the model...\".format(train_loss_min,train_loss))\n",
        "        torch.save(model.state_dict(), \"model.pt\")\n",
        "        train_loss_min = train_loss\n",
        "    \n",
        "    if epoch % 200 == 0:\n",
        "        print('')\n",
        "        print(\"Epoch: {} \\tTrain Loss: {} \\tTrain Accuracy: {}\".format(epoch+1, train_loss,num_right / len(y_train[start:end]) ))\n",
        "print('Training Ended! ')"
      ],
      "execution_count": 132,
      "outputs": [
        {
          "output_type": "stream",
          "text": [
            "Validation loss decreased (   inf ===> 0.504480). Saving the model...\n",
            "\n",
            "Epoch: 1 \tTrain Loss: 0.504479662656784 \tTrain Accuracy: 0.796875\n",
            "Validation loss decreased (0.504480 ===> 0.454679). Saving the model...\n",
            "Validation loss decreased (0.454679 ===> 0.439198). Saving the model...\n",
            "Validation loss decreased (0.439198 ===> 0.429281). Saving the model...\n",
            "Validation loss decreased (0.429281 ===> 0.425218). Saving the model...\n",
            "Validation loss decreased (0.425218 ===> 0.421305). Saving the model...\n",
            "Validation loss decreased (0.421305 ===> 0.419486). Saving the model...\n",
            "Validation loss decreased (0.419486 ===> 0.414196). Saving the model...\n",
            "Validation loss decreased (0.414196 ===> 0.409597). Saving the model...\n",
            "Validation loss decreased (0.409597 ===> 0.404711). Saving the model...\n",
            "Validation loss decreased (0.404711 ===> 0.402154). Saving the model...\n",
            "Validation loss decreased (0.402154 ===> 0.397180). Saving the model...\n",
            "Validation loss decreased (0.397180 ===> 0.395800). Saving the model...\n",
            "Validation loss decreased (0.395800 ===> 0.391216). Saving the model...\n",
            "Validation loss decreased (0.391216 ===> 0.387375). Saving the model...\n",
            "Validation loss decreased (0.387375 ===> 0.383445). Saving the model...\n",
            "Validation loss decreased (0.383445 ===> 0.380979). Saving the model...\n",
            "Validation loss decreased (0.380979 ===> 0.378211). Saving the model...\n",
            "Validation loss decreased (0.378211 ===> 0.375636). Saving the model...\n",
            "Validation loss decreased (0.375636 ===> 0.375068). Saving the model...\n",
            "Validation loss decreased (0.375068 ===> 0.369597). Saving the model...\n",
            "Validation loss decreased (0.369597 ===> 0.368093). Saving the model...\n",
            "Validation loss decreased (0.368093 ===> 0.365607). Saving the model...\n",
            "Validation loss decreased (0.365607 ===> 0.362296). Saving the model...\n",
            "Validation loss decreased (0.362296 ===> 0.360091). Saving the model...\n",
            "Validation loss decreased (0.360091 ===> 0.359692). Saving the model...\n",
            "Validation loss decreased (0.359692 ===> 0.358533). Saving the model...\n",
            "Validation loss decreased (0.358533 ===> 0.357849). Saving the model...\n",
            "Validation loss decreased (0.357849 ===> 0.356083). Saving the model...\n",
            "Validation loss decreased (0.356083 ===> 0.354236). Saving the model...\n",
            "Validation loss decreased (0.354236 ===> 0.353651). Saving the model...\n",
            "Validation loss decreased (0.353651 ===> 0.351751). Saving the model...\n",
            "Validation loss decreased (0.351751 ===> 0.351442). Saving the model...\n",
            "Validation loss decreased (0.351442 ===> 0.349455). Saving the model...\n",
            "Validation loss decreased (0.349455 ===> 0.348194). Saving the model...\n",
            "Validation loss decreased (0.348194 ===> 0.345978). Saving the model...\n",
            "Validation loss decreased (0.345978 ===> 0.344665). Saving the model...\n",
            "Validation loss decreased (0.344665 ===> 0.343654). Saving the model...\n",
            "Validation loss decreased (0.343654 ===> 0.342806). Saving the model...\n",
            "Validation loss decreased (0.342806 ===> 0.342429). Saving the model...\n",
            "Validation loss decreased (0.342429 ===> 0.341315). Saving the model...\n",
            "Validation loss decreased (0.341315 ===> 0.340239). Saving the model...\n",
            "Validation loss decreased (0.340239 ===> 0.339510). Saving the model...\n",
            "Validation loss decreased (0.339510 ===> 0.338072). Saving the model...\n",
            "Validation loss decreased (0.338072 ===> 0.336120). Saving the model...\n",
            "Validation loss decreased (0.336120 ===> 0.335991). Saving the model...\n",
            "Validation loss decreased (0.335991 ===> 0.334920). Saving the model...\n",
            "Validation loss decreased (0.334920 ===> 0.334852). Saving the model...\n",
            "Validation loss decreased (0.334852 ===> 0.334678). Saving the model...\n",
            "Validation loss decreased (0.334678 ===> 0.334145). Saving the model...\n",
            "Validation loss decreased (0.334145 ===> 0.331940). Saving the model...\n",
            "Validation loss decreased (0.331940 ===> 0.331611). Saving the model...\n",
            "Validation loss decreased (0.331611 ===> 0.328107). Saving the model...\n",
            "Validation loss decreased (0.328107 ===> 0.327548). Saving the model...\n",
            "Validation loss decreased (0.327548 ===> 0.326321). Saving the model...\n",
            "Validation loss decreased (0.326321 ===> 0.325055). Saving the model...\n",
            "Validation loss decreased (0.325055 ===> 0.324652). Saving the model...\n",
            "Validation loss decreased (0.324652 ===> 0.323425). Saving the model...\n",
            "Validation loss decreased (0.323425 ===> 0.322405). Saving the model...\n",
            "Validation loss decreased (0.322405 ===> 0.321785). Saving the model...\n",
            "Validation loss decreased (0.321785 ===> 0.320267). Saving the model...\n",
            "Validation loss decreased (0.320267 ===> 0.318735). Saving the model...\n",
            "Validation loss decreased (0.318735 ===> 0.316514). Saving the model...\n",
            "Validation loss decreased (0.316514 ===> 0.315925). Saving the model...\n",
            "Validation loss decreased (0.315925 ===> 0.315280). Saving the model...\n",
            "Validation loss decreased (0.315280 ===> 0.313343). Saving the model...\n",
            "Validation loss decreased (0.313343 ===> 0.312516). Saving the model...\n",
            "Validation loss decreased (0.312516 ===> 0.312363). Saving the model...\n",
            "Validation loss decreased (0.312363 ===> 0.312256). Saving the model...\n",
            "Validation loss decreased (0.312256 ===> 0.310863). Saving the model...\n",
            "Validation loss decreased (0.310863 ===> 0.309656). Saving the model...\n",
            "Validation loss decreased (0.309656 ===> 0.309647). Saving the model...\n",
            "\n",
            "Epoch: 201 \tTrain Loss: 0.31258944626649965 \tTrain Accuracy: 0.875\n",
            "Validation loss decreased (0.309647 ===> 0.309235). Saving the model...\n",
            "Validation loss decreased (0.309235 ===> 0.308805). Saving the model...\n",
            "Validation loss decreased (0.308805 ===> 0.308003). Saving the model...\n",
            "Validation loss decreased (0.308003 ===> 0.306946). Saving the model...\n",
            "Validation loss decreased (0.306946 ===> 0.305455). Saving the model...\n",
            "Validation loss decreased (0.305455 ===> 0.304543). Saving the model...\n",
            "Validation loss decreased (0.304543 ===> 0.304397). Saving the model...\n",
            "Validation loss decreased (0.304397 ===> 0.303099). Saving the model...\n",
            "Validation loss decreased (0.303099 ===> 0.302639). Saving the model...\n",
            "Validation loss decreased (0.302639 ===> 0.302584). Saving the model...\n",
            "Validation loss decreased (0.302584 ===> 0.302519). Saving the model...\n",
            "Validation loss decreased (0.302519 ===> 0.301431). Saving the model...\n",
            "Validation loss decreased (0.301431 ===> 0.301427). Saving the model...\n",
            "Validation loss decreased (0.301427 ===> 0.300495). Saving the model...\n",
            "Validation loss decreased (0.300495 ===> 0.299203). Saving the model...\n",
            "Validation loss decreased (0.299203 ===> 0.298850). Saving the model...\n",
            "Validation loss decreased (0.298850 ===> 0.297652). Saving the model...\n",
            "Validation loss decreased (0.297652 ===> 0.297262). Saving the model...\n",
            "Validation loss decreased (0.297262 ===> 0.296104). Saving the model...\n",
            "Validation loss decreased (0.296104 ===> 0.294470). Saving the model...\n",
            "Validation loss decreased (0.294470 ===> 0.292239). Saving the model...\n",
            "Validation loss decreased (0.292239 ===> 0.291966). Saving the model...\n",
            "Validation loss decreased (0.291966 ===> 0.290925). Saving the model...\n",
            "Validation loss decreased (0.290925 ===> 0.289411). Saving the model...\n",
            "Validation loss decreased (0.289411 ===> 0.285747). Saving the model...\n",
            "Validation loss decreased (0.285747 ===> 0.285515). Saving the model...\n",
            "Validation loss decreased (0.285515 ===> 0.285386). Saving the model...\n",
            "Validation loss decreased (0.285386 ===> 0.283386). Saving the model...\n",
            "Validation loss decreased (0.283386 ===> 0.282606). Saving the model...\n",
            "Validation loss decreased (0.282606 ===> 0.282592). Saving the model...\n",
            "Validation loss decreased (0.282592 ===> 0.281182). Saving the model...\n",
            "Validation loss decreased (0.281182 ===> 0.279618). Saving the model...\n",
            "Validation loss decreased (0.279618 ===> 0.278632). Saving the model...\n",
            "Validation loss decreased (0.278632 ===> 0.278342). Saving the model...\n",
            "\n",
            "Epoch: 401 \tTrain Loss: 0.27834237012112356 \tTrain Accuracy: 0.890625\n",
            "Validation loss decreased (0.278342 ===> 0.277827). Saving the model...\n",
            "Validation loss decreased (0.277827 ===> 0.275017). Saving the model...\n",
            "Validation loss decreased (0.275017 ===> 0.273783). Saving the model...\n",
            "Validation loss decreased (0.273783 ===> 0.273061). Saving the model...\n",
            "Validation loss decreased (0.273061 ===> 0.271741). Saving the model...\n",
            "Validation loss decreased (0.271741 ===> 0.269184). Saving the model...\n",
            "Validation loss decreased (0.269184 ===> 0.267886). Saving the model...\n",
            "Validation loss decreased (0.267886 ===> 0.267845). Saving the model...\n",
            "Validation loss decreased (0.267845 ===> 0.265737). Saving the model...\n",
            "Training Ended! \n"
          ],
          "name": "stdout"
        }
      ]
    },
    {
      "cell_type": "code",
      "metadata": {
        "id": "f4dNKuE_7Tfl"
      },
      "source": [
        "# class Model(nn.Module):\n",
        "#     def __init__(self, num_features, num_targets, hidden_size):\n",
        "#         super(Model, self).__init__()\n",
        "#         self.batch_norm1 = nn.BatchNorm1d(num_features)\n",
        "#         self.dropout1 = nn.Dropout(0.2)\n",
        "#         self.dense1 = nn.utils.weight_norm(nn.Linear(num_features, hidden_size))\n",
        "        \n",
        "#         self.batch_norm2 = nn.BatchNorm1d(hidden_size)\n",
        "#         self.dropout2 = nn.Dropout(0.5)\n",
        "#         self.dense2 = nn.utils.weight_norm(nn.Linear(hidden_size, hidden_size))\n",
        "        \n",
        "#         self.batch_norm3 = nn.BatchNorm1d(hidden_size)\n",
        "#         self.dropout3 = nn.Dropout(0.5)\n",
        "#         self.dense3 = nn.utils.weight_norm(nn.Linear(hidden_size, num_targets))\n",
        "    \n",
        "#     def forward(self, x):\n",
        "#         x = self.batch_norm1(x)\n",
        "#         x = self.dropout1(x)\n",
        "#         x = F.relu(self.dense1(x))\n",
        "        \n",
        "#         x = self.batch_norm2(x)\n",
        "#         x = self.dropout2(x)\n",
        "#         x = F.relu(self.dense2(x))\n",
        "        \n",
        "#         x = self.batch_norm3(x)\n",
        "#         x = self.dropout3(x)\n",
        "#         x = self.dense3(x)\n",
        "        \n",
        "#         return x"
      ],
      "execution_count": 133,
      "outputs": []
    },
    {
      "cell_type": "code",
      "metadata": {
        "id": "ggymnl7a_EzM"
      },
      "source": [
        ""
      ],
      "execution_count": 133,
      "outputs": []
    }
  ]
}