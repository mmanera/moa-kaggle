{
  "nbformat": 4,
  "nbformat_minor": 0,
  "metadata": {
    "colab": {
      "name": "torch.ipynb",
      "provenance": [],
      "collapsed_sections": []
    },
    "kernelspec": {
      "name": "python3",
      "display_name": "Python 3"
    },
    "accelerator": "GPU"
  },
  "cells": [
    {
      "cell_type": "code",
      "metadata": {
        "id": "H7T1B0OB7Y8K"
      },
      "source": [
        "import pandas as pd\n",
        "import numpy as np\n",
        "\n",
        "import torch\n",
        "import torch.nn as nn\n",
        "import torch.nn.functional as F\n",
        "import torch.optim as optim\n",
        "\n",
        "from torch.autograd import Variable"
      ],
      "execution_count": 136,
      "outputs": []
    },
    {
      "cell_type": "code",
      "metadata": {
        "id": "B8RA3s7O7Zmc"
      },
      "source": [
        "dataset = pd.read_csv('/content/drive/My Drive/toy/Churn_Modelling.csv')"
      ],
      "execution_count": 137,
      "outputs": []
    },
    {
      "cell_type": "code",
      "metadata": {
        "id": "8uoCSOlG86BB",
        "outputId": "c42d56f6-83c1-4581-b692-904319361de1",
        "colab": {
          "base_uri": "https://localhost:8080/",
          "height": 226
        }
      },
      "source": [
        "dataset.head()"
      ],
      "execution_count": 138,
      "outputs": [
        {
          "output_type": "execute_result",
          "data": {
            "text/html": [
              "<div>\n",
              "<style scoped>\n",
              "    .dataframe tbody tr th:only-of-type {\n",
              "        vertical-align: middle;\n",
              "    }\n",
              "\n",
              "    .dataframe tbody tr th {\n",
              "        vertical-align: top;\n",
              "    }\n",
              "\n",
              "    .dataframe thead th {\n",
              "        text-align: right;\n",
              "    }\n",
              "</style>\n",
              "<table border=\"1\" class=\"dataframe\">\n",
              "  <thead>\n",
              "    <tr style=\"text-align: right;\">\n",
              "      <th></th>\n",
              "      <th>RowNumber</th>\n",
              "      <th>CustomerId</th>\n",
              "      <th>Surname</th>\n",
              "      <th>CreditScore</th>\n",
              "      <th>Geography</th>\n",
              "      <th>Gender</th>\n",
              "      <th>Age</th>\n",
              "      <th>Tenure</th>\n",
              "      <th>Balance</th>\n",
              "      <th>NumOfProducts</th>\n",
              "      <th>HasCrCard</th>\n",
              "      <th>IsActiveMember</th>\n",
              "      <th>EstimatedSalary</th>\n",
              "      <th>Exited</th>\n",
              "    </tr>\n",
              "  </thead>\n",
              "  <tbody>\n",
              "    <tr>\n",
              "      <th>0</th>\n",
              "      <td>1</td>\n",
              "      <td>15634602</td>\n",
              "      <td>Hargrave</td>\n",
              "      <td>619</td>\n",
              "      <td>France</td>\n",
              "      <td>Female</td>\n",
              "      <td>42</td>\n",
              "      <td>2</td>\n",
              "      <td>0.00</td>\n",
              "      <td>1</td>\n",
              "      <td>1</td>\n",
              "      <td>1</td>\n",
              "      <td>101348.88</td>\n",
              "      <td>1</td>\n",
              "    </tr>\n",
              "    <tr>\n",
              "      <th>1</th>\n",
              "      <td>2</td>\n",
              "      <td>15647311</td>\n",
              "      <td>Hill</td>\n",
              "      <td>608</td>\n",
              "      <td>Spain</td>\n",
              "      <td>Female</td>\n",
              "      <td>41</td>\n",
              "      <td>1</td>\n",
              "      <td>83807.86</td>\n",
              "      <td>1</td>\n",
              "      <td>0</td>\n",
              "      <td>1</td>\n",
              "      <td>112542.58</td>\n",
              "      <td>0</td>\n",
              "    </tr>\n",
              "    <tr>\n",
              "      <th>2</th>\n",
              "      <td>3</td>\n",
              "      <td>15619304</td>\n",
              "      <td>Onio</td>\n",
              "      <td>502</td>\n",
              "      <td>France</td>\n",
              "      <td>Female</td>\n",
              "      <td>42</td>\n",
              "      <td>8</td>\n",
              "      <td>159660.80</td>\n",
              "      <td>3</td>\n",
              "      <td>1</td>\n",
              "      <td>0</td>\n",
              "      <td>113931.57</td>\n",
              "      <td>1</td>\n",
              "    </tr>\n",
              "    <tr>\n",
              "      <th>3</th>\n",
              "      <td>4</td>\n",
              "      <td>15701354</td>\n",
              "      <td>Boni</td>\n",
              "      <td>699</td>\n",
              "      <td>France</td>\n",
              "      <td>Female</td>\n",
              "      <td>39</td>\n",
              "      <td>1</td>\n",
              "      <td>0.00</td>\n",
              "      <td>2</td>\n",
              "      <td>0</td>\n",
              "      <td>0</td>\n",
              "      <td>93826.63</td>\n",
              "      <td>0</td>\n",
              "    </tr>\n",
              "    <tr>\n",
              "      <th>4</th>\n",
              "      <td>5</td>\n",
              "      <td>15737888</td>\n",
              "      <td>Mitchell</td>\n",
              "      <td>850</td>\n",
              "      <td>Spain</td>\n",
              "      <td>Female</td>\n",
              "      <td>43</td>\n",
              "      <td>2</td>\n",
              "      <td>125510.82</td>\n",
              "      <td>1</td>\n",
              "      <td>1</td>\n",
              "      <td>1</td>\n",
              "      <td>79084.10</td>\n",
              "      <td>0</td>\n",
              "    </tr>\n",
              "  </tbody>\n",
              "</table>\n",
              "</div>"
            ],
            "text/plain": [
              "   RowNumber  CustomerId   Surname  ...  IsActiveMember EstimatedSalary Exited\n",
              "0          1    15634602  Hargrave  ...               1       101348.88      1\n",
              "1          2    15647311      Hill  ...               1       112542.58      0\n",
              "2          3    15619304      Onio  ...               0       113931.57      1\n",
              "3          4    15701354      Boni  ...               0        93826.63      0\n",
              "4          5    15737888  Mitchell  ...               1        79084.10      0\n",
              "\n",
              "[5 rows x 14 columns]"
            ]
          },
          "metadata": {
            "tags": []
          },
          "execution_count": 138
        }
      ]
    },
    {
      "cell_type": "code",
      "metadata": {
        "id": "VycT_dnk-QKd"
      },
      "source": [
        "X = dataset.iloc[:, 3:-1].values\n",
        "y = dataset.iloc[:, -1].values"
      ],
      "execution_count": 139,
      "outputs": []
    },
    {
      "cell_type": "code",
      "metadata": {
        "id": "haaT16LV-ia5"
      },
      "source": [
        "from sklearn.preprocessing import LabelEncoder\n",
        "le = LabelEncoder()\n",
        "X[:, 2] = le.fit_transform(X[:, 2])"
      ],
      "execution_count": 140,
      "outputs": []
    },
    {
      "cell_type": "code",
      "metadata": {
        "id": "_AqHK3gf-ikg"
      },
      "source": [
        "from sklearn.compose import ColumnTransformer\n",
        "from sklearn.preprocessing import OneHotEncoder\n",
        "ct = ColumnTransformer(transformers=[('encoder', OneHotEncoder(), [1])], remainder='passthrough')\n",
        "X = np.array(ct.fit_transform(X))"
      ],
      "execution_count": 141,
      "outputs": []
    },
    {
      "cell_type": "code",
      "metadata": {
        "id": "mQs7qifn-2ic"
      },
      "source": [
        "# Normalization\n",
        "from sklearn.preprocessing import StandardScaler\n",
        "sc = StandardScaler()\n",
        "X = sc.fit_transform(X)"
      ],
      "execution_count": 142,
      "outputs": []
    },
    {
      "cell_type": "code",
      "metadata": {
        "id": "ptVEq58z-4fM"
      },
      "source": [
        "from sklearn.model_selection import train_test_split\n",
        "X_train, X_test, y_train, y_test = train_test_split(X, y, test_size = 0.2, random_state = 0)"
      ],
      "execution_count": 143,
      "outputs": []
    },
    {
      "cell_type": "code",
      "metadata": {
        "id": "a1bM-kS1Wawy",
        "outputId": "f18d469f-31d5-4153-d38e-d84c81e9006b",
        "colab": {
          "base_uri": "https://localhost:8080/",
          "height": 34
        }
      },
      "source": [
        "y_train"
      ],
      "execution_count": 144,
      "outputs": [
        {
          "output_type": "execute_result",
          "data": {
            "text/plain": [
              "array([0, 0, 0, ..., 0, 0, 1])"
            ]
          },
          "metadata": {
            "tags": []
          },
          "execution_count": 144
        }
      ]
    },
    {
      "cell_type": "code",
      "metadata": {
        "id": "wyB3hXh_bF06",
        "outputId": "c904d3c9-b6bf-4104-980d-d31192d2f87b",
        "colab": {
          "base_uri": "https://localhost:8080/",
          "height": 34
        }
      },
      "source": [
        "y = torch.from_numpy(y_train)\n",
        "y.shape"
      ],
      "execution_count": 145,
      "outputs": [
        {
          "output_type": "execute_result",
          "data": {
            "text/plain": [
              "torch.Size([8000])"
            ]
          },
          "metadata": {
            "tags": []
          },
          "execution_count": 145
        }
      ]
    },
    {
      "cell_type": "code",
      "metadata": {
        "id": "B4D_moeGf-FF",
        "outputId": "221c34ba-be82-4f54-dc74-27057efeb86e",
        "colab": {
          "base_uri": "https://localhost:8080/",
          "height": 121
        }
      },
      "source": [
        "class Net(nn.Module):\n",
        "    def __init__(self):\n",
        "        super(Net, self).__init__()\n",
        "        self.fc1 = nn.Linear(12, 512)           # obviamente tem que bater com as features, e a input\n",
        "        self.fc2 = nn.Linear(512, 512)          # 512 escolhemos aleatoriamente, sao as hidden features\n",
        "        self.fc3 = nn.Linear(512, 2)\n",
        "        self.dropout = nn.Dropout(0.2)\n",
        "        \n",
        "    def forward(self, x):\n",
        "        x = F.relu(self.fc1(x))\n",
        "        x = self.dropout(x)\n",
        "        x = F.relu(self.fc2(x))\n",
        "        x = self.dropout(x)\n",
        "        x = self.fc3(x)\n",
        "        return x\n",
        "model = Net()\n",
        "model"
      ],
      "execution_count": 146,
      "outputs": [
        {
          "output_type": "execute_result",
          "data": {
            "text/plain": [
              "Net(\n",
              "  (fc1): Linear(in_features=12, out_features=512, bias=True)\n",
              "  (fc2): Linear(in_features=512, out_features=512, bias=True)\n",
              "  (fc3): Linear(in_features=512, out_features=2, bias=True)\n",
              "  (dropout): Dropout(p=0.2, inplace=False)\n",
              ")"
            ]
          },
          "metadata": {
            "tags": []
          },
          "execution_count": 146
        }
      ]
    },
    {
      "cell_type": "code",
      "metadata": {
        "id": "h2TkOqwFjV30",
        "outputId": "8aa6d46d-67f4-4806-bce9-54f5175b9aa2",
        "colab": {
          "base_uri": "https://localhost:8080/",
          "height": 121
        }
      },
      "source": [
        "[param.shape for param in model.parameters()]"
      ],
      "execution_count": 147,
      "outputs": [
        {
          "output_type": "execute_result",
          "data": {
            "text/plain": [
              "[torch.Size([512, 12]),\n",
              " torch.Size([512]),\n",
              " torch.Size([512, 512]),\n",
              " torch.Size([512]),\n",
              " torch.Size([2, 512]),\n",
              " torch.Size([2])]"
            ]
          },
          "metadata": {
            "tags": []
          },
          "execution_count": 147
        }
      ]
    },
    {
      "cell_type": "code",
      "metadata": {
        "id": "gdznKemjkVqB",
        "outputId": "cbd2785f-8027-4a0e-bcd7-49775f71367f",
        "colab": {
          "base_uri": "https://localhost:8080/",
          "height": 121
        }
      },
      "source": [
        "for name, param in model.named_parameters():\n",
        "  print(name, param.shape)"
      ],
      "execution_count": 148,
      "outputs": [
        {
          "output_type": "stream",
          "text": [
            "fc1.weight torch.Size([512, 12])\n",
            "fc1.bias torch.Size([512])\n",
            "fc2.weight torch.Size([512, 512])\n",
            "fc2.bias torch.Size([512])\n",
            "fc3.weight torch.Size([2, 512])\n",
            "fc3.bias torch.Size([2])\n"
          ],
          "name": "stdout"
        }
      ]
    },
    {
      "cell_type": "code",
      "metadata": {
        "id": "whD2-bwaV2yj",
        "outputId": "a2d91724-fd43-4aa4-d9c3-0a42953bb15c",
        "colab": {
          "base_uri": "https://localhost:8080/",
          "height": 1000
        }
      },
      "source": [
        "criterion = nn.CrossEntropyLoss()\n",
        "optimizer = torch.optim.SGD(model.parameters(), lr=0.01)\n",
        "\n",
        "\n",
        "batch_size = 64\n",
        "n_epochs = 200\n",
        "batch_no = len(X_train) // batch_size\n",
        "\n",
        "train_loss = 0\n",
        "train_loss_min = np.Inf\n",
        "for epoch in range(n_epochs):\n",
        "    for i in range(batch_no):\n",
        "        start = i*batch_size\n",
        "        end = start+batch_size\n",
        "        x_var = Variable(torch.FloatTensor(X_train[start:end]))\n",
        "        y_var = Variable(torch.LongTensor(y_train[start:end])) \n",
        "        \n",
        "        optimizer.zero_grad()\n",
        "        output = model(x_var)\n",
        "        loss = criterion(output,y_var)\n",
        "        loss.backward()\n",
        "        optimizer.step()\n",
        "        \n",
        "        values, labels = torch.max(output, 1)\n",
        "        num_right = np.sum(labels.data.numpy() == y_train[start:end])\n",
        "        train_loss += loss.item()*batch_size\n",
        "    \n",
        "    train_loss = train_loss / len(X_train)\n",
        "    if train_loss <= train_loss_min:\n",
        "        print(\"Validation loss decreased ({:6f} ===> {:6f}). Saving the model...\".format(train_loss_min,train_loss))\n",
        "        torch.save(model.state_dict(), \"model.pt\")\n",
        "        train_loss_min = train_loss\n",
        "    \n",
        "    if epoch % 200 == 0:\n",
        "        print('')\n",
        "        print(\"Epoch: {} \\tTrain Loss: {} \\tTrain Accuracy: {}\".format(epoch+1, train_loss,num_right / len(y_train[start:end]) ))\n",
        "print('Training Ended! ')"
      ],
      "execution_count": 149,
      "outputs": [
        {
          "output_type": "stream",
          "text": [
            "Validation loss decreased (   inf ===> 0.504124). Saving the model...\n",
            "\n",
            "Epoch: 1 \tTrain Loss: 0.5041242527961731 \tTrain Accuracy: 0.796875\n",
            "Validation loss decreased (0.504124 ===> 0.455243). Saving the model...\n",
            "Validation loss decreased (0.455243 ===> 0.438207). Saving the model...\n",
            "Validation loss decreased (0.438207 ===> 0.432425). Saving the model...\n",
            "Validation loss decreased (0.432425 ===> 0.426996). Saving the model...\n",
            "Validation loss decreased (0.426996 ===> 0.421693). Saving the model...\n",
            "Validation loss decreased (0.421693 ===> 0.418801). Saving the model...\n",
            "Validation loss decreased (0.418801 ===> 0.415179). Saving the model...\n",
            "Validation loss decreased (0.415179 ===> 0.412803). Saving the model...\n",
            "Validation loss decreased (0.412803 ===> 0.408648). Saving the model...\n",
            "Validation loss decreased (0.408648 ===> 0.404918). Saving the model...\n",
            "Validation loss decreased (0.404918 ===> 0.401059). Saving the model...\n",
            "Validation loss decreased (0.401059 ===> 0.396426). Saving the model...\n",
            "Validation loss decreased (0.396426 ===> 0.392351). Saving the model...\n",
            "Validation loss decreased (0.392351 ===> 0.390818). Saving the model...\n",
            "Validation loss decreased (0.390818 ===> 0.387300). Saving the model...\n",
            "Validation loss decreased (0.387300 ===> 0.386295). Saving the model...\n",
            "Validation loss decreased (0.386295 ===> 0.383479). Saving the model...\n",
            "Validation loss decreased (0.383479 ===> 0.380545). Saving the model...\n",
            "Validation loss decreased (0.380545 ===> 0.372438). Saving the model...\n",
            "Validation loss decreased (0.372438 ===> 0.369354). Saving the model...\n",
            "Validation loss decreased (0.369354 ===> 0.368758). Saving the model...\n",
            "Validation loss decreased (0.368758 ===> 0.366895). Saving the model...\n",
            "Validation loss decreased (0.366895 ===> 0.366452). Saving the model...\n",
            "Validation loss decreased (0.366452 ===> 0.363545). Saving the model...\n",
            "Validation loss decreased (0.363545 ===> 0.360414). Saving the model...\n",
            "Validation loss decreased (0.360414 ===> 0.358843). Saving the model...\n",
            "Validation loss decreased (0.358843 ===> 0.358075). Saving the model...\n",
            "Validation loss decreased (0.358075 ===> 0.354872). Saving the model...\n",
            "Validation loss decreased (0.354872 ===> 0.353831). Saving the model...\n",
            "Validation loss decreased (0.353831 ===> 0.352772). Saving the model...\n",
            "Validation loss decreased (0.352772 ===> 0.350183). Saving the model...\n",
            "Validation loss decreased (0.350183 ===> 0.348966). Saving the model...\n",
            "Validation loss decreased (0.348966 ===> 0.346034). Saving the model...\n",
            "Validation loss decreased (0.346034 ===> 0.343775). Saving the model...\n",
            "Validation loss decreased (0.343775 ===> 0.342746). Saving the model...\n",
            "Validation loss decreased (0.342746 ===> 0.341601). Saving the model...\n",
            "Validation loss decreased (0.341601 ===> 0.341186). Saving the model...\n",
            "Validation loss decreased (0.341186 ===> 0.339929). Saving the model...\n",
            "Validation loss decreased (0.339929 ===> 0.339900). Saving the model...\n",
            "Validation loss decreased (0.339900 ===> 0.339535). Saving the model...\n",
            "Validation loss decreased (0.339535 ===> 0.337713). Saving the model...\n",
            "Validation loss decreased (0.337713 ===> 0.337199). Saving the model...\n",
            "Validation loss decreased (0.337199 ===> 0.334906). Saving the model...\n",
            "Validation loss decreased (0.334906 ===> 0.334701). Saving the model...\n",
            "Validation loss decreased (0.334701 ===> 0.333428). Saving the model...\n",
            "Validation loss decreased (0.333428 ===> 0.333102). Saving the model...\n",
            "Validation loss decreased (0.333102 ===> 0.329951). Saving the model...\n",
            "Validation loss decreased (0.329951 ===> 0.329678). Saving the model...\n",
            "Validation loss decreased (0.329678 ===> 0.329384). Saving the model...\n",
            "Validation loss decreased (0.329384 ===> 0.329050). Saving the model...\n",
            "Validation loss decreased (0.329050 ===> 0.328703). Saving the model...\n",
            "Validation loss decreased (0.328703 ===> 0.328105). Saving the model...\n",
            "Validation loss decreased (0.328105 ===> 0.327586). Saving the model...\n",
            "Validation loss decreased (0.327586 ===> 0.325383). Saving the model...\n",
            "Validation loss decreased (0.325383 ===> 0.325239). Saving the model...\n",
            "Validation loss decreased (0.325239 ===> 0.324683). Saving the model...\n",
            "Validation loss decreased (0.324683 ===> 0.323845). Saving the model...\n",
            "Validation loss decreased (0.323845 ===> 0.323348). Saving the model...\n",
            "Validation loss decreased (0.323348 ===> 0.322360). Saving the model...\n",
            "Validation loss decreased (0.322360 ===> 0.322211). Saving the model...\n",
            "Validation loss decreased (0.322211 ===> 0.318164). Saving the model...\n",
            "Validation loss decreased (0.318164 ===> 0.317484). Saving the model...\n",
            "Validation loss decreased (0.317484 ===> 0.315482). Saving the model...\n",
            "Validation loss decreased (0.315482 ===> 0.314247). Saving the model...\n",
            "Validation loss decreased (0.314247 ===> 0.313620). Saving the model...\n",
            "Validation loss decreased (0.313620 ===> 0.313281). Saving the model...\n",
            "Validation loss decreased (0.313281 ===> 0.310465). Saving the model...\n",
            "Validation loss decreased (0.310465 ===> 0.309796). Saving the model...\n",
            "Training Ended! \n"
          ],
          "name": "stdout"
        }
      ]
    },
    {
      "cell_type": "code",
      "metadata": {
        "id": "O4sF_U7hYTTs"
      },
      "source": [
        "X_test_var = Variable(torch.FloatTensor(X_test), requires_grad=False) \n",
        "with torch.no_grad():\n",
        "    test_result = model(X_test_var)\n",
        "values, labels = torch.max(test_result, 1)"
      ],
      "execution_count": 150,
      "outputs": []
    },
    {
      "cell_type": "code",
      "metadata": {
        "id": "SDlvw4L7S4gt",
        "outputId": "cd860b56-e932-46bd-9969-9dfefa5acceb",
        "colab": {
          "base_uri": "https://localhost:8080/",
          "height": 139
        }
      },
      "source": [
        "test_result"
      ],
      "execution_count": 151,
      "outputs": [
        {
          "output_type": "execute_result",
          "data": {
            "text/plain": [
              "tensor([[ 0.3625, -0.3330],\n",
              "        [ 0.5312, -0.6596],\n",
              "        [ 0.8603, -1.0998],\n",
              "        ...,\n",
              "        [ 1.2264, -1.4105],\n",
              "        [ 0.9188, -1.0298],\n",
              "        [ 1.1605, -1.2481]])"
            ]
          },
          "metadata": {
            "tags": []
          },
          "execution_count": 151
        }
      ]
    },
    {
      "cell_type": "code",
      "metadata": {
        "id": "RyWVdgyfgsPo",
        "outputId": "86542bef-816d-4666-b956-153e8df8ebb2",
        "colab": {
          "base_uri": "https://localhost:8080/",
          "height": 34
        }
      },
      "source": [
        "torch.max(test_result, 1)"
      ],
      "execution_count": 152,
      "outputs": [
        {
          "output_type": "execute_result",
          "data": {
            "text/plain": [
              "torch.return_types.max(values=tensor([0.3625, 0.5312, 0.8603,  ..., 1.2264, 0.9188, 1.1605]), indices=tensor([0, 0, 0,  ..., 0, 0, 0]))"
            ]
          },
          "metadata": {
            "tags": []
          },
          "execution_count": 152
        }
      ]
    },
    {
      "cell_type": "code",
      "metadata": {
        "id": "rvsEA2CmfuqH",
        "outputId": "65ebebdc-7453-40f4-d76e-12c05ef54b2c",
        "colab": {
          "base_uri": "https://localhost:8080/",
          "height": 34
        }
      },
      "source": [
        "values"
      ],
      "execution_count": 153,
      "outputs": [
        {
          "output_type": "execute_result",
          "data": {
            "text/plain": [
              "tensor([0.3625, 0.5312, 0.8603,  ..., 1.2264, 0.9188, 1.1605])"
            ]
          },
          "metadata": {
            "tags": []
          },
          "execution_count": 153
        }
      ]
    },
    {
      "cell_type": "code",
      "metadata": {
        "id": "FSb8HXDPg5po",
        "outputId": "52674a65-a658-45ac-f7cf-1211950093aa",
        "colab": {
          "base_uri": "https://localhost:8080/",
          "height": 34
        }
      },
      "source": [
        "labels"
      ],
      "execution_count": 154,
      "outputs": [
        {
          "output_type": "execute_result",
          "data": {
            "text/plain": [
              "tensor([0, 0, 0,  ..., 0, 0, 0])"
            ]
          },
          "metadata": {
            "tags": []
          },
          "execution_count": 154
        }
      ]
    },
    {
      "cell_type": "code",
      "metadata": {
        "id": "SqtORMVUZU2i",
        "outputId": "888af627-f730-4399-abc3-da2fc4b69eba",
        "colab": {
          "base_uri": "https://localhost:8080/",
          "height": 34
        }
      },
      "source": [
        "from sklearn import metrics\n",
        "metrics.accuracy_score(y_test, labels)"
      ],
      "execution_count": 155,
      "outputs": [
        {
          "output_type": "execute_result",
          "data": {
            "text/plain": [
              "0.8585"
            ]
          },
          "metadata": {
            "tags": []
          },
          "execution_count": 155
        }
      ]
    },
    {
      "cell_type": "code",
      "metadata": {
        "id": "ggymnl7a_EzM",
        "outputId": "b24a5868-86a1-4e7d-f587-0a26097ce5d9",
        "colab": {
          "base_uri": "https://localhost:8080/",
          "height": 34
        }
      },
      "source": [
        "x_var = Variable(torch.FloatTensor(X_train[start:end]))\n",
        "x_var.dtype"
      ],
      "execution_count": 156,
      "outputs": [
        {
          "output_type": "execute_result",
          "data": {
            "text/plain": [
              "torch.float32"
            ]
          },
          "metadata": {
            "tags": []
          },
          "execution_count": 156
        }
      ]
    }
  ]
}