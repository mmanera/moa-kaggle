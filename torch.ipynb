{
  "nbformat": 4,
  "nbformat_minor": 0,
  "metadata": {
    "colab": {
      "name": "torch.ipynb",
      "provenance": [],
      "collapsed_sections": []
    },
    "kernelspec": {
      "name": "python3",
      "display_name": "Python 3"
    },
    "accelerator": "GPU"
  },
  "cells": [
    {
      "cell_type": "code",
      "metadata": {
        "id": "H7T1B0OB7Y8K"
      },
      "source": [
        "import pandas as pd\n",
        "import numpy as np\n",
        "\n",
        "import torch\n",
        "import torch.nn as nn\n",
        "import torch.nn.functional as F\n",
        "import torch.optim as optim\n",
        "\n",
        "from torch.autograd import Variable"
      ],
      "execution_count": 97,
      "outputs": []
    },
    {
      "cell_type": "code",
      "metadata": {
        "id": "B8RA3s7O7Zmc"
      },
      "source": [
        "dataset = pd.read_csv('/content/drive/My Drive/toy/Churn_Modelling.csv')"
      ],
      "execution_count": 98,
      "outputs": []
    },
    {
      "cell_type": "code",
      "metadata": {
        "id": "8uoCSOlG86BB",
        "outputId": "17820cf6-d7f9-4ea3-cf12-2749a0a9a843",
        "colab": {
          "base_uri": "https://localhost:8080/",
          "height": 226
        }
      },
      "source": [
        "dataset.head()"
      ],
      "execution_count": 99,
      "outputs": [
        {
          "output_type": "execute_result",
          "data": {
            "text/html": [
              "<div>\n",
              "<style scoped>\n",
              "    .dataframe tbody tr th:only-of-type {\n",
              "        vertical-align: middle;\n",
              "    }\n",
              "\n",
              "    .dataframe tbody tr th {\n",
              "        vertical-align: top;\n",
              "    }\n",
              "\n",
              "    .dataframe thead th {\n",
              "        text-align: right;\n",
              "    }\n",
              "</style>\n",
              "<table border=\"1\" class=\"dataframe\">\n",
              "  <thead>\n",
              "    <tr style=\"text-align: right;\">\n",
              "      <th></th>\n",
              "      <th>RowNumber</th>\n",
              "      <th>CustomerId</th>\n",
              "      <th>Surname</th>\n",
              "      <th>CreditScore</th>\n",
              "      <th>Geography</th>\n",
              "      <th>Gender</th>\n",
              "      <th>Age</th>\n",
              "      <th>Tenure</th>\n",
              "      <th>Balance</th>\n",
              "      <th>NumOfProducts</th>\n",
              "      <th>HasCrCard</th>\n",
              "      <th>IsActiveMember</th>\n",
              "      <th>EstimatedSalary</th>\n",
              "      <th>Exited</th>\n",
              "    </tr>\n",
              "  </thead>\n",
              "  <tbody>\n",
              "    <tr>\n",
              "      <th>0</th>\n",
              "      <td>1</td>\n",
              "      <td>15634602</td>\n",
              "      <td>Hargrave</td>\n",
              "      <td>619</td>\n",
              "      <td>France</td>\n",
              "      <td>Female</td>\n",
              "      <td>42</td>\n",
              "      <td>2</td>\n",
              "      <td>0.00</td>\n",
              "      <td>1</td>\n",
              "      <td>1</td>\n",
              "      <td>1</td>\n",
              "      <td>101348.88</td>\n",
              "      <td>1</td>\n",
              "    </tr>\n",
              "    <tr>\n",
              "      <th>1</th>\n",
              "      <td>2</td>\n",
              "      <td>15647311</td>\n",
              "      <td>Hill</td>\n",
              "      <td>608</td>\n",
              "      <td>Spain</td>\n",
              "      <td>Female</td>\n",
              "      <td>41</td>\n",
              "      <td>1</td>\n",
              "      <td>83807.86</td>\n",
              "      <td>1</td>\n",
              "      <td>0</td>\n",
              "      <td>1</td>\n",
              "      <td>112542.58</td>\n",
              "      <td>0</td>\n",
              "    </tr>\n",
              "    <tr>\n",
              "      <th>2</th>\n",
              "      <td>3</td>\n",
              "      <td>15619304</td>\n",
              "      <td>Onio</td>\n",
              "      <td>502</td>\n",
              "      <td>France</td>\n",
              "      <td>Female</td>\n",
              "      <td>42</td>\n",
              "      <td>8</td>\n",
              "      <td>159660.80</td>\n",
              "      <td>3</td>\n",
              "      <td>1</td>\n",
              "      <td>0</td>\n",
              "      <td>113931.57</td>\n",
              "      <td>1</td>\n",
              "    </tr>\n",
              "    <tr>\n",
              "      <th>3</th>\n",
              "      <td>4</td>\n",
              "      <td>15701354</td>\n",
              "      <td>Boni</td>\n",
              "      <td>699</td>\n",
              "      <td>France</td>\n",
              "      <td>Female</td>\n",
              "      <td>39</td>\n",
              "      <td>1</td>\n",
              "      <td>0.00</td>\n",
              "      <td>2</td>\n",
              "      <td>0</td>\n",
              "      <td>0</td>\n",
              "      <td>93826.63</td>\n",
              "      <td>0</td>\n",
              "    </tr>\n",
              "    <tr>\n",
              "      <th>4</th>\n",
              "      <td>5</td>\n",
              "      <td>15737888</td>\n",
              "      <td>Mitchell</td>\n",
              "      <td>850</td>\n",
              "      <td>Spain</td>\n",
              "      <td>Female</td>\n",
              "      <td>43</td>\n",
              "      <td>2</td>\n",
              "      <td>125510.82</td>\n",
              "      <td>1</td>\n",
              "      <td>1</td>\n",
              "      <td>1</td>\n",
              "      <td>79084.10</td>\n",
              "      <td>0</td>\n",
              "    </tr>\n",
              "  </tbody>\n",
              "</table>\n",
              "</div>"
            ],
            "text/plain": [
              "   RowNumber  CustomerId   Surname  ...  IsActiveMember EstimatedSalary Exited\n",
              "0          1    15634602  Hargrave  ...               1       101348.88      1\n",
              "1          2    15647311      Hill  ...               1       112542.58      0\n",
              "2          3    15619304      Onio  ...               0       113931.57      1\n",
              "3          4    15701354      Boni  ...               0        93826.63      0\n",
              "4          5    15737888  Mitchell  ...               1        79084.10      0\n",
              "\n",
              "[5 rows x 14 columns]"
            ]
          },
          "metadata": {
            "tags": []
          },
          "execution_count": 99
        }
      ]
    },
    {
      "cell_type": "code",
      "metadata": {
        "id": "VycT_dnk-QKd"
      },
      "source": [
        "X = dataset.iloc[:, 3:-1].values\n",
        "y = dataset.iloc[:, -1].values"
      ],
      "execution_count": 100,
      "outputs": []
    },
    {
      "cell_type": "code",
      "metadata": {
        "id": "haaT16LV-ia5"
      },
      "source": [
        "from sklearn.preprocessing import LabelEncoder\n",
        "le = LabelEncoder()\n",
        "X[:, 2] = le.fit_transform(X[:, 2])"
      ],
      "execution_count": 101,
      "outputs": []
    },
    {
      "cell_type": "code",
      "metadata": {
        "id": "_AqHK3gf-ikg"
      },
      "source": [
        "from sklearn.compose import ColumnTransformer\n",
        "from sklearn.preprocessing import OneHotEncoder\n",
        "ct = ColumnTransformer(transformers=[('encoder', OneHotEncoder(), [1])], remainder='passthrough')\n",
        "X = np.array(ct.fit_transform(X))"
      ],
      "execution_count": 102,
      "outputs": []
    },
    {
      "cell_type": "code",
      "metadata": {
        "id": "mQs7qifn-2ic"
      },
      "source": [
        "# Normalization\n",
        "from sklearn.preprocessing import StandardScaler\n",
        "sc = StandardScaler()\n",
        "X = sc.fit_transform(X)"
      ],
      "execution_count": 103,
      "outputs": []
    },
    {
      "cell_type": "code",
      "metadata": {
        "id": "ptVEq58z-4fM"
      },
      "source": [
        "from sklearn.model_selection import train_test_split\n",
        "X_train, X_test, y_train, y_test = train_test_split(X, y, test_size = 0.2, random_state = 0)"
      ],
      "execution_count": 104,
      "outputs": []
    },
    {
      "cell_type": "code",
      "metadata": {
        "id": "a1bM-kS1Wawy",
        "outputId": "1548a417-74b6-4d3a-d9ba-1ccedb18fb1a",
        "colab": {
          "base_uri": "https://localhost:8080/",
          "height": 34
        }
      },
      "source": [
        "y_train"
      ],
      "execution_count": 105,
      "outputs": [
        {
          "output_type": "execute_result",
          "data": {
            "text/plain": [
              "array([0, 0, 0, ..., 0, 0, 1])"
            ]
          },
          "metadata": {
            "tags": []
          },
          "execution_count": 105
        }
      ]
    },
    {
      "cell_type": "code",
      "metadata": {
        "id": "wyB3hXh_bF06",
        "outputId": "6ead07eb-0b2f-4def-da73-252735276ba5",
        "colab": {
          "base_uri": "https://localhost:8080/",
          "height": 34
        }
      },
      "source": [
        "y = torch.from_numpy(y_train)\n",
        "y.shape"
      ],
      "execution_count": 106,
      "outputs": [
        {
          "output_type": "execute_result",
          "data": {
            "text/plain": [
              "torch.Size([8000])"
            ]
          },
          "metadata": {
            "tags": []
          },
          "execution_count": 106
        }
      ]
    },
    {
      "cell_type": "code",
      "metadata": {
        "id": "B4D_moeGf-FF"
      },
      "source": [
        "# class Net(nn.Module):\n",
        "#     def __init__(self):\n",
        "#         super(Net, self).__init__()\n",
        "#         self.fc1 = nn.Linear(12, 512)           # obviamente tem que bater com as features, e a input\n",
        "#         self.fc2 = nn.Linear(512, 512)          # 512 escolhemos aleatoriamente, sao as hidden features\n",
        "#         self.fc3 = nn.Linear(512, 2)\n",
        "#         self.dropout = nn.Dropout(0.2)\n",
        "        \n",
        "#     def forward(self, x):\n",
        "#         x = F.relu(self.fc1(x))\n",
        "#         x = self.dropout(x)\n",
        "#         x = F.relu(self.fc2(x))\n",
        "#         x = self.dropout(x)\n",
        "#         x = self.fc3(x)\n",
        "#         return x\n",
        "# model = Net()\n",
        "# model"
      ],
      "execution_count": 107,
      "outputs": []
    },
    {
      "cell_type": "code",
      "metadata": {
        "id": "lwEfTN-Gv7Fz"
      },
      "source": [
        "class Net(nn.Module):\n",
        "    def __init__(self):\n",
        "        super(Net, self).__init__()\n",
        "        self.fc1 = nn.Linear(12,512),\n",
        "        self.fc2 = nn.Linear(512, 2),\n",
        "        \n",
        "    def forward(self, x):\n",
        "            x = F.tanh(self.fc1(x))\n",
        "            x = self.fc2(x)\n",
        "            x = F.softmax(x)\n",
        "            return x\n",
        "    model = Net()\n",
        "    model\n",
        "\n",
        "model = nn.Sequential(\n",
        "            nn.Linear(12, 512),\n",
        "            nn.Tanh(),\n",
        "            nn.Linear(512, 2),\n",
        "            nn.Softmax(dim=1))"
      ],
      "execution_count": 108,
      "outputs": []
    },
    {
      "cell_type": "code",
      "metadata": {
        "id": "UDO4-Mps0Nio",
        "outputId": "9d9b23a7-8f6c-47e0-a5e7-6fe09f599f9d",
        "colab": {
          "base_uri": "https://localhost:8080/",
          "height": 52
        }
      },
      "source": [
        "a = np.array([[1,2],[3,4]])\n",
        "a"
      ],
      "execution_count": 144,
      "outputs": [
        {
          "output_type": "execute_result",
          "data": {
            "text/plain": [
              "array([[1, 2],\n",
              "       [3, 4]])"
            ]
          },
          "metadata": {
            "tags": []
          },
          "execution_count": 144
        }
      ]
    },
    {
      "cell_type": "code",
      "metadata": {
        "id": "CBIhjiM20cqJ",
        "outputId": "0e459e8f-c5cf-45ee-dce9-23095bade0a9",
        "colab": {
          "base_uri": "https://localhost:8080/",
          "height": 52
        }
      },
      "source": [
        "t = torch.tensor([[1.,-2.],[3.,4.]])\n",
        "t"
      ],
      "execution_count": 145,
      "outputs": [
        {
          "output_type": "execute_result",
          "data": {
            "text/plain": [
              "tensor([[ 1., -2.],\n",
              "        [ 3.,  4.]])"
            ]
          },
          "metadata": {
            "tags": []
          },
          "execution_count": 145
        }
      ]
    },
    {
      "cell_type": "code",
      "metadata": {
        "id": "phzqwJCp005Z",
        "outputId": "c3595cf7-5ef6-4763-a80d-777605d72936",
        "colab": {
          "base_uri": "https://localhost:8080/",
          "height": 86
        }
      },
      "source": [
        "t_v = t.view(-1)\n",
        "t_v = t_v.unsqueeze(1)\n",
        "t_v"
      ],
      "execution_count": 148,
      "outputs": [
        {
          "output_type": "execute_result",
          "data": {
            "text/plain": [
              "tensor([[ 1.],\n",
              "        [-2.],\n",
              "        [ 3.],\n",
              "        [ 4.]])"
            ]
          },
          "metadata": {
            "tags": []
          },
          "execution_count": 148
        }
      ]
    },
    {
      "cell_type": "code",
      "metadata": {
        "id": "h2TkOqwFjV30",
        "outputId": "22f18eb3-3e15-46f5-e37b-cfdf28878ae4",
        "colab": {
          "base_uri": "https://localhost:8080/",
          "height": 86
        }
      },
      "source": [
        "[param.shape for param in model.parameters()]"
      ],
      "execution_count": 109,
      "outputs": [
        {
          "output_type": "execute_result",
          "data": {
            "text/plain": [
              "[torch.Size([512, 12]),\n",
              " torch.Size([512]),\n",
              " torch.Size([2, 512]),\n",
              " torch.Size([2])]"
            ]
          },
          "metadata": {
            "tags": []
          },
          "execution_count": 109
        }
      ]
    },
    {
      "cell_type": "code",
      "metadata": {
        "id": "gdznKemjkVqB",
        "outputId": "507be71d-102f-41dc-8950-34dbbedb3d90",
        "colab": {
          "base_uri": "https://localhost:8080/",
          "height": 86
        }
      },
      "source": [
        "for name, param in model.named_parameters():\n",
        "  print(name, param.shape)"
      ],
      "execution_count": 110,
      "outputs": [
        {
          "output_type": "stream",
          "text": [
            "0.weight torch.Size([512, 12])\n",
            "0.bias torch.Size([512])\n",
            "2.weight torch.Size([2, 512])\n",
            "2.bias torch.Size([2])\n"
          ],
          "name": "stdout"
        }
      ]
    },
    {
      "cell_type": "code",
      "metadata": {
        "id": "whD2-bwaV2yj",
        "outputId": "865a52b2-690a-4ab6-d94c-e730230726fe",
        "colab": {
          "base_uri": "https://localhost:8080/",
          "height": 1000
        }
      },
      "source": [
        "criterion = nn.CrossEntropyLoss()\n",
        "optimizer = torch.optim.SGD(model.parameters(), lr=0.01)\n",
        "\n",
        "\n",
        "batch_size = 64\n",
        "n_epochs = 200\n",
        "batch_no = len(X_train) // batch_size\n",
        "\n",
        "train_loss = 0\n",
        "train_loss_min = np.Inf\n",
        "for epoch in range(n_epochs):\n",
        "    for i in range(batch_no):\n",
        "        start = i*batch_size\n",
        "        end = start+batch_size\n",
        "        x_var = Variable(torch.FloatTensor(X_train[start:end]))\n",
        "        y_var = Variable(torch.LongTensor(y_train[start:end])) \n",
        "        \n",
        "        optimizer.zero_grad()\n",
        "        output = model(x_var)\n",
        "        loss = criterion(output,y_var)\n",
        "        loss.backward()\n",
        "        optimizer.step()\n",
        "        \n",
        "        values, labels = torch.max(output, 1)\n",
        "        num_right = np.sum(labels.data.numpy() == y_train[start:end])\n",
        "        train_loss += loss.item()*batch_size\n",
        "    \n",
        "    train_loss = train_loss / len(X_train)\n",
        "    if train_loss <= train_loss_min:\n",
        "        print(\"Validation loss decreased ({:6f} ===> {:6f}). Saving the model...\".format(train_loss_min,train_loss))\n",
        "        torch.save(model.state_dict(), \"model.pt\")\n",
        "        train_loss_min = train_loss\n",
        "    \n",
        "    if epoch % 200 == 0:\n",
        "        print('')\n",
        "        print(\"Epoch: {} \\tTrain Loss: {} \\tTrain Accuracy: {}\".format(epoch+1, train_loss,num_right / len(y_train[start:end]) ))\n",
        "print('Training Ended! ')"
      ],
      "execution_count": 111,
      "outputs": [
        {
          "output_type": "stream",
          "text": [
            "Validation loss decreased (   inf ===> 0.474386). Saving the model...\n",
            "\n",
            "Epoch: 1 \tTrain Loss: 0.47438588666915893 \tTrain Accuracy: 0.84375\n",
            "Validation loss decreased (0.474386 ===> 0.474386). Saving the model...\n",
            "Validation loss decreased (0.474386 ===> 0.474356). Saving the model...\n",
            "Validation loss decreased (0.474356 ===> 0.474326). Saving the model...\n",
            "Validation loss decreased (0.474326 ===> 0.474297). Saving the model...\n",
            "Validation loss decreased (0.474297 ===> 0.474267). Saving the model...\n",
            "Validation loss decreased (0.474267 ===> 0.474238). Saving the model...\n",
            "Validation loss decreased (0.474238 ===> 0.474208). Saving the model...\n",
            "Validation loss decreased (0.474208 ===> 0.474179). Saving the model...\n",
            "Validation loss decreased (0.474179 ===> 0.474150). Saving the model...\n",
            "Validation loss decreased (0.474150 ===> 0.474121). Saving the model...\n",
            "Validation loss decreased (0.474121 ===> 0.474091). Saving the model...\n",
            "Validation loss decreased (0.474091 ===> 0.474062). Saving the model...\n",
            "Validation loss decreased (0.474062 ===> 0.474033). Saving the model...\n",
            "Validation loss decreased (0.474033 ===> 0.474004). Saving the model...\n",
            "Validation loss decreased (0.474004 ===> 0.473975). Saving the model...\n",
            "Validation loss decreased (0.473975 ===> 0.473946). Saving the model...\n",
            "Validation loss decreased (0.473946 ===> 0.473918). Saving the model...\n",
            "Validation loss decreased (0.473918 ===> 0.473889). Saving the model...\n",
            "Validation loss decreased (0.473889 ===> 0.473860). Saving the model...\n",
            "Validation loss decreased (0.473860 ===> 0.473831). Saving the model...\n",
            "Validation loss decreased (0.473831 ===> 0.473802). Saving the model...\n",
            "Validation loss decreased (0.473802 ===> 0.473774). Saving the model...\n",
            "Validation loss decreased (0.473774 ===> 0.473745). Saving the model...\n",
            "Validation loss decreased (0.473745 ===> 0.473717). Saving the model...\n",
            "Validation loss decreased (0.473717 ===> 0.473688). Saving the model...\n",
            "Validation loss decreased (0.473688 ===> 0.473660). Saving the model...\n",
            "Validation loss decreased (0.473660 ===> 0.473631). Saving the model...\n",
            "Validation loss decreased (0.473631 ===> 0.473603). Saving the model...\n",
            "Validation loss decreased (0.473603 ===> 0.473574). Saving the model...\n",
            "Validation loss decreased (0.473574 ===> 0.473546). Saving the model...\n",
            "Validation loss decreased (0.473546 ===> 0.473518). Saving the model...\n",
            "Validation loss decreased (0.473518 ===> 0.473489). Saving the model...\n",
            "Validation loss decreased (0.473489 ===> 0.473461). Saving the model...\n",
            "Validation loss decreased (0.473461 ===> 0.473433). Saving the model...\n",
            "Validation loss decreased (0.473433 ===> 0.473405). Saving the model...\n",
            "Validation loss decreased (0.473405 ===> 0.473377). Saving the model...\n",
            "Validation loss decreased (0.473377 ===> 0.473348). Saving the model...\n",
            "Validation loss decreased (0.473348 ===> 0.473320). Saving the model...\n",
            "Validation loss decreased (0.473320 ===> 0.473292). Saving the model...\n",
            "Validation loss decreased (0.473292 ===> 0.473264). Saving the model...\n",
            "Validation loss decreased (0.473264 ===> 0.473236). Saving the model...\n",
            "Validation loss decreased (0.473236 ===> 0.473208). Saving the model...\n",
            "Validation loss decreased (0.473208 ===> 0.473180). Saving the model...\n",
            "Validation loss decreased (0.473180 ===> 0.473152). Saving the model...\n",
            "Validation loss decreased (0.473152 ===> 0.473124). Saving the model...\n",
            "Validation loss decreased (0.473124 ===> 0.473097). Saving the model...\n",
            "Validation loss decreased (0.473097 ===> 0.473069). Saving the model...\n",
            "Validation loss decreased (0.473069 ===> 0.473041). Saving the model...\n",
            "Validation loss decreased (0.473041 ===> 0.473013). Saving the model...\n",
            "Validation loss decreased (0.473013 ===> 0.472985). Saving the model...\n",
            "Validation loss decreased (0.472985 ===> 0.472957). Saving the model...\n",
            "Validation loss decreased (0.472957 ===> 0.472930). Saving the model...\n",
            "Validation loss decreased (0.472930 ===> 0.472902). Saving the model...\n",
            "Validation loss decreased (0.472902 ===> 0.472874). Saving the model...\n",
            "Validation loss decreased (0.472874 ===> 0.472846). Saving the model...\n",
            "Validation loss decreased (0.472846 ===> 0.472819). Saving the model...\n",
            "Validation loss decreased (0.472819 ===> 0.472791). Saving the model...\n",
            "Validation loss decreased (0.472791 ===> 0.472763). Saving the model...\n",
            "Validation loss decreased (0.472763 ===> 0.472736). Saving the model...\n",
            "Validation loss decreased (0.472736 ===> 0.472708). Saving the model...\n",
            "Validation loss decreased (0.472708 ===> 0.472681). Saving the model...\n",
            "Validation loss decreased (0.472681 ===> 0.472653). Saving the model...\n",
            "Validation loss decreased (0.472653 ===> 0.472625). Saving the model...\n",
            "Validation loss decreased (0.472625 ===> 0.472598). Saving the model...\n",
            "Validation loss decreased (0.472598 ===> 0.472570). Saving the model...\n",
            "Validation loss decreased (0.472570 ===> 0.472543). Saving the model...\n",
            "Validation loss decreased (0.472543 ===> 0.472515). Saving the model...\n",
            "Validation loss decreased (0.472515 ===> 0.472488). Saving the model...\n",
            "Validation loss decreased (0.472488 ===> 0.472460). Saving the model...\n",
            "Validation loss decreased (0.472460 ===> 0.472433). Saving the model...\n",
            "Validation loss decreased (0.472433 ===> 0.472405). Saving the model...\n",
            "Validation loss decreased (0.472405 ===> 0.472378). Saving the model...\n",
            "Validation loss decreased (0.472378 ===> 0.472351). Saving the model...\n",
            "Validation loss decreased (0.472351 ===> 0.472323). Saving the model...\n",
            "Validation loss decreased (0.472323 ===> 0.472296). Saving the model...\n",
            "Validation loss decreased (0.472296 ===> 0.472268). Saving the model...\n",
            "Validation loss decreased (0.472268 ===> 0.472241). Saving the model...\n",
            "Validation loss decreased (0.472241 ===> 0.472214). Saving the model...\n",
            "Validation loss decreased (0.472214 ===> 0.472186). Saving the model...\n",
            "Validation loss decreased (0.472186 ===> 0.472159). Saving the model...\n",
            "Validation loss decreased (0.472159 ===> 0.472132). Saving the model...\n",
            "Validation loss decreased (0.472132 ===> 0.472105). Saving the model...\n",
            "Validation loss decreased (0.472105 ===> 0.472077). Saving the model...\n",
            "Validation loss decreased (0.472077 ===> 0.472050). Saving the model...\n",
            "Validation loss decreased (0.472050 ===> 0.472023). Saving the model...\n",
            "Validation loss decreased (0.472023 ===> 0.471996). Saving the model...\n",
            "Validation loss decreased (0.471996 ===> 0.471968). Saving the model...\n",
            "Validation loss decreased (0.471968 ===> 0.471941). Saving the model...\n",
            "Validation loss decreased (0.471941 ===> 0.471914). Saving the model...\n",
            "Validation loss decreased (0.471914 ===> 0.471887). Saving the model...\n",
            "Validation loss decreased (0.471887 ===> 0.471860). Saving the model...\n",
            "Validation loss decreased (0.471860 ===> 0.471833). Saving the model...\n",
            "Validation loss decreased (0.471833 ===> 0.471805). Saving the model...\n",
            "Validation loss decreased (0.471805 ===> 0.471778). Saving the model...\n",
            "Validation loss decreased (0.471778 ===> 0.471751). Saving the model...\n",
            "Validation loss decreased (0.471751 ===> 0.471724). Saving the model...\n",
            "Validation loss decreased (0.471724 ===> 0.471697). Saving the model...\n",
            "Validation loss decreased (0.471697 ===> 0.471670). Saving the model...\n",
            "Validation loss decreased (0.471670 ===> 0.471643). Saving the model...\n",
            "Validation loss decreased (0.471643 ===> 0.471616). Saving the model...\n",
            "Validation loss decreased (0.471616 ===> 0.471589). Saving the model...\n",
            "Validation loss decreased (0.471589 ===> 0.471562). Saving the model...\n",
            "Validation loss decreased (0.471562 ===> 0.471535). Saving the model...\n",
            "Validation loss decreased (0.471535 ===> 0.471508). Saving the model...\n",
            "Validation loss decreased (0.471508 ===> 0.471481). Saving the model...\n",
            "Validation loss decreased (0.471481 ===> 0.471454). Saving the model...\n",
            "Validation loss decreased (0.471454 ===> 0.471427). Saving the model...\n",
            "Validation loss decreased (0.471427 ===> 0.471400). Saving the model...\n",
            "Validation loss decreased (0.471400 ===> 0.471373). Saving the model...\n",
            "Validation loss decreased (0.471373 ===> 0.471346). Saving the model...\n",
            "Validation loss decreased (0.471346 ===> 0.471319). Saving the model...\n",
            "Validation loss decreased (0.471319 ===> 0.471292). Saving the model...\n",
            "Validation loss decreased (0.471292 ===> 0.471266). Saving the model...\n",
            "Validation loss decreased (0.471266 ===> 0.471239). Saving the model...\n",
            "Validation loss decreased (0.471239 ===> 0.471212). Saving the model...\n",
            "Validation loss decreased (0.471212 ===> 0.471185). Saving the model...\n",
            "Validation loss decreased (0.471185 ===> 0.471158). Saving the model...\n",
            "Validation loss decreased (0.471158 ===> 0.471131). Saving the model...\n",
            "Validation loss decreased (0.471131 ===> 0.471104). Saving the model...\n",
            "Validation loss decreased (0.471104 ===> 0.471077). Saving the model...\n",
            "Validation loss decreased (0.471077 ===> 0.471051). Saving the model...\n",
            "Validation loss decreased (0.471051 ===> 0.471024). Saving the model...\n",
            "Validation loss decreased (0.471024 ===> 0.470997). Saving the model...\n",
            "Validation loss decreased (0.470997 ===> 0.470970). Saving the model...\n",
            "Validation loss decreased (0.470970 ===> 0.470943). Saving the model...\n",
            "Validation loss decreased (0.470943 ===> 0.470916). Saving the model...\n",
            "Validation loss decreased (0.470916 ===> 0.470890). Saving the model...\n",
            "Validation loss decreased (0.470890 ===> 0.470863). Saving the model...\n",
            "Validation loss decreased (0.470863 ===> 0.470836). Saving the model...\n",
            "Validation loss decreased (0.470836 ===> 0.470809). Saving the model...\n",
            "Validation loss decreased (0.470809 ===> 0.470782). Saving the model...\n",
            "Validation loss decreased (0.470782 ===> 0.470755). Saving the model...\n",
            "Validation loss decreased (0.470755 ===> 0.470728). Saving the model...\n",
            "Validation loss decreased (0.470728 ===> 0.470702). Saving the model...\n",
            "Validation loss decreased (0.470702 ===> 0.470675). Saving the model...\n",
            "Validation loss decreased (0.470675 ===> 0.470648). Saving the model...\n",
            "Validation loss decreased (0.470648 ===> 0.470621). Saving the model...\n",
            "Validation loss decreased (0.470621 ===> 0.470594). Saving the model...\n",
            "Validation loss decreased (0.470594 ===> 0.470567). Saving the model...\n",
            "Validation loss decreased (0.470567 ===> 0.470540). Saving the model...\n",
            "Validation loss decreased (0.470540 ===> 0.470513). Saving the model...\n",
            "Validation loss decreased (0.470513 ===> 0.470486). Saving the model...\n",
            "Validation loss decreased (0.470486 ===> 0.470459). Saving the model...\n",
            "Validation loss decreased (0.470459 ===> 0.470432). Saving the model...\n",
            "Validation loss decreased (0.470432 ===> 0.470405). Saving the model...\n",
            "Validation loss decreased (0.470405 ===> 0.470378). Saving the model...\n",
            "Validation loss decreased (0.470378 ===> 0.470351). Saving the model...\n",
            "Validation loss decreased (0.470351 ===> 0.470324). Saving the model...\n",
            "Validation loss decreased (0.470324 ===> 0.470297). Saving the model...\n",
            "Validation loss decreased (0.470297 ===> 0.470270). Saving the model...\n",
            "Validation loss decreased (0.470270 ===> 0.470243). Saving the model...\n",
            "Validation loss decreased (0.470243 ===> 0.470215). Saving the model...\n",
            "Validation loss decreased (0.470215 ===> 0.470188). Saving the model...\n",
            "Validation loss decreased (0.470188 ===> 0.470161). Saving the model...\n",
            "Validation loss decreased (0.470161 ===> 0.470133). Saving the model...\n",
            "Validation loss decreased (0.470133 ===> 0.470106). Saving the model...\n",
            "Validation loss decreased (0.470106 ===> 0.470079). Saving the model...\n",
            "Validation loss decreased (0.470079 ===> 0.470051). Saving the model...\n",
            "Validation loss decreased (0.470051 ===> 0.470024). Saving the model...\n",
            "Validation loss decreased (0.470024 ===> 0.469996). Saving the model...\n",
            "Validation loss decreased (0.469996 ===> 0.469968). Saving the model...\n",
            "Validation loss decreased (0.469968 ===> 0.469941). Saving the model...\n",
            "Validation loss decreased (0.469941 ===> 0.469913). Saving the model...\n",
            "Validation loss decreased (0.469913 ===> 0.469885). Saving the model...\n",
            "Validation loss decreased (0.469885 ===> 0.469857). Saving the model...\n",
            "Validation loss decreased (0.469857 ===> 0.469830). Saving the model...\n",
            "Validation loss decreased (0.469830 ===> 0.469802). Saving the model...\n",
            "Validation loss decreased (0.469802 ===> 0.469774). Saving the model...\n",
            "Validation loss decreased (0.469774 ===> 0.469745). Saving the model...\n",
            "Validation loss decreased (0.469745 ===> 0.469717). Saving the model...\n",
            "Validation loss decreased (0.469717 ===> 0.469689). Saving the model...\n",
            "Validation loss decreased (0.469689 ===> 0.469661). Saving the model...\n",
            "Validation loss decreased (0.469661 ===> 0.469632). Saving the model...\n",
            "Validation loss decreased (0.469632 ===> 0.469604). Saving the model...\n",
            "Validation loss decreased (0.469604 ===> 0.469575). Saving the model...\n",
            "Validation loss decreased (0.469575 ===> 0.469546). Saving the model...\n",
            "Validation loss decreased (0.469546 ===> 0.469518). Saving the model...\n",
            "Validation loss decreased (0.469518 ===> 0.469489). Saving the model...\n",
            "Validation loss decreased (0.469489 ===> 0.469460). Saving the model...\n",
            "Validation loss decreased (0.469460 ===> 0.469431). Saving the model...\n",
            "Validation loss decreased (0.469431 ===> 0.469401). Saving the model...\n",
            "Validation loss decreased (0.469401 ===> 0.469372). Saving the model...\n",
            "Validation loss decreased (0.469372 ===> 0.469343). Saving the model...\n",
            "Validation loss decreased (0.469343 ===> 0.469313). Saving the model...\n",
            "Validation loss decreased (0.469313 ===> 0.469283). Saving the model...\n",
            "Validation loss decreased (0.469283 ===> 0.469254). Saving the model...\n",
            "Validation loss decreased (0.469254 ===> 0.469224). Saving the model...\n",
            "Validation loss decreased (0.469224 ===> 0.469194). Saving the model...\n",
            "Validation loss decreased (0.469194 ===> 0.469164). Saving the model...\n",
            "Validation loss decreased (0.469164 ===> 0.469133). Saving the model...\n",
            "Validation loss decreased (0.469133 ===> 0.469103). Saving the model...\n",
            "Validation loss decreased (0.469103 ===> 0.469072). Saving the model...\n",
            "Validation loss decreased (0.469072 ===> 0.469041). Saving the model...\n",
            "Validation loss decreased (0.469041 ===> 0.469010). Saving the model...\n",
            "Validation loss decreased (0.469010 ===> 0.468979). Saving the model...\n",
            "Validation loss decreased (0.468979 ===> 0.468948). Saving the model...\n",
            "Validation loss decreased (0.468948 ===> 0.468917). Saving the model...\n",
            "Validation loss decreased (0.468917 ===> 0.468885). Saving the model...\n",
            "Training Ended! \n"
          ],
          "name": "stdout"
        }
      ]
    },
    {
      "cell_type": "code",
      "metadata": {
        "id": "O4sF_U7hYTTs"
      },
      "source": [
        "X_test_var = Variable(torch.FloatTensor(X_test), requires_grad=False) \n",
        "with torch.no_grad():\n",
        "    test_result = model(X_test_var)\n",
        "values, labels = torch.max(test_result, dim=1)"
      ],
      "execution_count": 154,
      "outputs": []
    },
    {
      "cell_type": "code",
      "metadata": {
        "id": "SDlvw4L7S4gt",
        "outputId": "52bbae4f-9ede-47ab-9fa9-a02ca3c1a39b",
        "colab": {
          "base_uri": "https://localhost:8080/",
          "height": 34
        }
      },
      "source": [
        "torch.max(test_result, dim=1)"
      ],
      "execution_count": 155,
      "outputs": [
        {
          "output_type": "execute_result",
          "data": {
            "text/plain": [
              "torch.return_types.max(values=tensor([1.0000, 0.8358, 1.0000,  ..., 0.9945, 1.0000, 0.9909]), indices=tensor([0, 0, 0,  ..., 0, 0, 0]))"
            ]
          },
          "metadata": {
            "tags": []
          },
          "execution_count": 155
        }
      ]
    },
    {
      "cell_type": "code",
      "metadata": {
        "id": "RyWVdgyfgsPo",
        "outputId": "e02d30b7-aed8-4313-c827-5c99850b91dc",
        "colab": {
          "base_uri": "https://localhost:8080/",
          "height": 34
        }
      },
      "source": [
        "torch.max(test_result, 1)"
      ],
      "execution_count": 114,
      "outputs": [
        {
          "output_type": "execute_result",
          "data": {
            "text/plain": [
              "torch.return_types.max(values=tensor([1.0000, 0.8358, 1.0000,  ..., 0.9945, 1.0000, 0.9909]), indices=tensor([0, 0, 0,  ..., 0, 0, 0]))"
            ]
          },
          "metadata": {
            "tags": []
          },
          "execution_count": 114
        }
      ]
    },
    {
      "cell_type": "code",
      "metadata": {
        "id": "rvsEA2CmfuqH",
        "outputId": "c47b1b2a-b046-48b4-c7b0-0547ac26ea12",
        "colab": {
          "base_uri": "https://localhost:8080/",
          "height": 34
        }
      },
      "source": [
        "values"
      ],
      "execution_count": 115,
      "outputs": [
        {
          "output_type": "execute_result",
          "data": {
            "text/plain": [
              "tensor([1.0000, 0.8358, 1.0000,  ..., 0.9945, 1.0000, 0.9909])"
            ]
          },
          "metadata": {
            "tags": []
          },
          "execution_count": 115
        }
      ]
    },
    {
      "cell_type": "code",
      "metadata": {
        "id": "FSb8HXDPg5po",
        "outputId": "504802c0-38f3-4625-a6cd-1e086624340a",
        "colab": {
          "base_uri": "https://localhost:8080/",
          "height": 34
        }
      },
      "source": [
        "labels"
      ],
      "execution_count": 116,
      "outputs": [
        {
          "output_type": "execute_result",
          "data": {
            "text/plain": [
              "tensor([0, 0, 0,  ..., 0, 0, 0])"
            ]
          },
          "metadata": {
            "tags": []
          },
          "execution_count": 116
        }
      ]
    },
    {
      "cell_type": "code",
      "metadata": {
        "id": "SqtORMVUZU2i",
        "outputId": "68ebec3c-cd12-4e09-c157-9b83c49020fd",
        "colab": {
          "base_uri": "https://localhost:8080/",
          "height": 34
        }
      },
      "source": [
        "from sklearn import metrics\n",
        "metrics.accuracy_score(y_test, labels)"
      ],
      "execution_count": 117,
      "outputs": [
        {
          "output_type": "execute_result",
          "data": {
            "text/plain": [
              "0.851"
            ]
          },
          "metadata": {
            "tags": []
          },
          "execution_count": 117
        }
      ]
    },
    {
      "cell_type": "code",
      "metadata": {
        "id": "ggymnl7a_EzM",
        "outputId": "d7a53113-ac77-46c9-f687-374037829d3f",
        "colab": {
          "base_uri": "https://localhost:8080/",
          "height": 34
        }
      },
      "source": [
        "x_var = Variable(torch.FloatTensor(X_train[start:end]))\n",
        "x_var.dtype"
      ],
      "execution_count": 118,
      "outputs": [
        {
          "output_type": "execute_result",
          "data": {
            "text/plain": [
              "torch.float32"
            ]
          },
          "metadata": {
            "tags": []
          },
          "execution_count": 118
        }
      ]
    }
  ]
}